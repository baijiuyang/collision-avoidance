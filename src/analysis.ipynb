{
 "cells": [
  {
   "cell_type": "code",
   "execution_count": 1,
   "metadata": {},
   "outputs": [],
   "source": [
    "# %load_ext autoreload\n",
    "# %autoreload 1\n",
    "# %aimport foo\n",
    "import os\n",
    "import sys\n",
    "from packages.models import Model\n",
    "from packages.helper import traj_speed, play_trajs, beta\n",
    "import numpy as np\n",
    "from numpy import gradient\n",
    "from numpy.linalg import norm\n",
    "import pickle\n",
    "import matplotlib.pyplot as plt\n",
    "from packages.tester import Tester\n",
    "from packages.simulator import Agent\n",
    "from packages import data_container\n",
    "from mpl_toolkits.mplot3d import Axes3D\n",
    "# For pickle to load the Data object, which is defined in packages.data_container\n",
    "sys.modules['data_container'] = data_container\n",
    "%matplotlib qt\n"
   ]
  },
  {
   "cell_type": "markdown",
   "metadata": {},
   "source": [
    "# Steering to goal"
   ]
  },
  {
   "cell_type": "code",
   "execution_count": 149,
   "metadata": {},
   "outputs": [],
   "source": [
    "file = os.path.abspath(os.path.join(os.getcwd(), os.pardir, 'data\\\\Fajen_steer_exp1a_data.pickle'))\n",
    "with open(file, 'rb') as f:\n",
    "    data = pickle.load(f)"
   ]
  },
  {
   "cell_type": "code",
   "execution_count": 7,
   "metadata": {},
   "outputs": [],
   "source": [
    "'''Animate data'''\n",
    "%matplotlib qt\n",
    "i = 51\n",
    "# p_obst = np.array(data.info['p_obst'][i])\n",
    "t0 = data.info['goal_onset'][i]\n",
    "p_goal = np.array(data.info['p_goal'][i])\n",
    "p_subj = np.array(data.get_traj(i))[:,:2]\n",
    "trajs = [p_goal, p_subj]\n",
    "ws = [data.info['w_goal'], 0.4]\n",
    "play_trajs(trajs, ws, data.Hz)"
   ]
  },
  {
   "cell_type": "code",
   "execution_count": 119,
   "metadata": {},
   "outputs": [],
   "source": [
    "'''Plot speed'''\n",
    "%matplotlib qt\n",
    "Hz = data.Hz\n",
    "for i in range(len(data.trajs)):\n",
    "    subj = np.array(data.get_traj(i))[:, :2]\n",
    "    if data.info['subj_id'][i] == 5:\n",
    "        for j in range(1, len(subj)):\n",
    "            spd1 = norm([(a - b) * Hz for a, b in zip(subj[j], subj[j-1])])\n",
    "            spd2 = norm([(a - b) * Hz for a, b in zip(subj[j+1], subj[j])])\n",
    "            if spd1 > 0.22 and spd2 > spd1:\n",
    "                t0 = j\n",
    "                break\n",
    "        t1 = t0 + 3 * Hz\n",
    "        spd = traj_speed(subj[t0:t1], data.Hz)\n",
    "        plt.plot(spd)"
   ]
  },
  {
   "cell_type": "code",
   "execution_count": 178,
   "metadata": {},
   "outputs": [],
   "source": [
    "'''Steer2Goal test'''\n",
    "\n",
    "tests = []\n",
    "\n",
    "w = 0.4\n",
    "mass_spring_approach1 = {'name': 'mass_spring_approach1', \n",
    "                         'b_1': 3.25, 'b_2': 4.8, 'k_1':7.5, 'k_2': 6, 'c_1': 0.4, 'c_2': 0.4}\n",
    "\n",
    "models = {'approach': mass_spring_approach1}\n",
    "agent = Agent(1, goal_id=0, w=w, models=models)\n",
    "info = {'w': {'goals': [0.1]}, 'ps':[]}\n",
    "goals = []\n",
    "subjs = []\n",
    "obsts = []\n",
    "Hz = data.Hz\n",
    "for i in range(len(data.trajs)):\n",
    "    if i in data.dump:\n",
    "        continue\n",
    "\n",
    "    goal = data.info['p_goal'][i]\n",
    "    subj = np.array(data.get_traj(i))[:,0:2].tolist()\n",
    "    # Define the start and end of a trial for fitting\n",
    "    for j in range(1, len(subj)):\n",
    "        spd1 = norm([(a - b) * Hz for a, b in zip(subj[j], subj[j-1])])\n",
    "        spd2 = norm([(a - b) * Hz for a, b in zip(subj[j+1], subj[j])])\n",
    "        if spd1 > 0.22 and spd2 > spd1:\n",
    "            t0 = j\n",
    "            break\n",
    "    t1 = t0 + 3 * Hz\n",
    "    goals.append([goal[t0:t1]])\n",
    "    subjs.append(subj[t0:t1])\n",
    "    info['ps'].append(data.info['ps'][i])\n",
    "\n",
    "\n",
    "tests.append(Tester(agent, goals, obsts, subjs, info, Hz))\n",
    "tests[-1].simulate()\n",
    "\n",
    "#===========================================\n"
   ]
  },
  {
   "cell_type": "code",
   "execution_count": 179,
   "metadata": {},
   "outputs": [
    {
     "name": "stdout",
     "output_type": "stream",
     "text": [
      "0.15695017477627626 0.04752809234726686 0.13648189685251022 0.039232094326499996 0.11374536152592071\n"
     ]
    }
   ],
   "source": [
    "'''Test metrics'''\n",
    "i_test = 0\n",
    "s_RMSE = tests[i_test].test('s_RMSE')\n",
    "print(np.mean(tests[i_test].test('p_dist')),       \n",
    "      np.mean(s_RMSE),\n",
    "      np.mean(tests[i_test].test('phi_RMSE')),\n",
    "      np.mean(tests[i_test].test('s_MAE')),\n",
    "      np.mean(tests[i_test].test('phi_MAE')))"
   ]
  },
  {
   "cell_type": "code",
   "execution_count": 189,
   "metadata": {},
   "outputs": [
    {
     "name": "stdout",
     "output_type": "stream",
     "text": [
      "[0.1441908578326049] [0.024881187922919174] [0.12065784952640389] [0.01968562919926966] [0.10658817624657614]\n"
     ]
    }
   ],
   "source": [
    "'''Animate trial'''\n",
    "%matplotlib qt\n",
    "i_test = 0\n",
    "i = 10\n",
    "goal = tests[i_test].goals[i][0]\n",
    "# obst = tests[i_test].obsts[i][0]\n",
    "subjs = tests[i_test].subjs[i]\n",
    "pred = tests[i_test].p_pred[i]\n",
    "play_trajs([goal, subjs, pred], [None, 0.4, 0.4], tests[i_test].Hz, labels=('goal','subj','model'))\n",
    "print(tests[i_test].test('p_dist', i_trial=i),       \n",
    "      tests[i_test].test('s_RMSE', i_trial=i),\n",
    "      tests[i_test].test('phi_RMSE', i_trial=i),\n",
    "      tests[i_test].test('s_MAE', i_trial=i),\n",
    "      tests[i_test].test('phi_MAE', i_trial=i))\n"
   ]
  },
  {
   "cell_type": "code",
   "execution_count": 122,
   "metadata": {},
   "outputs": [
    {
     "name": "stdout",
     "output_type": "stream",
     "text": [
      "0 32 0.14033975714644034\n",
      "0 42 0.13798210321780272\n",
      "1 99 0.14718993263943536\n",
      "5 402 0.1387086725540348\n",
      "5 432 0.14757106561083363\n"
     ]
    }
   ],
   "source": [
    "'''Find worst trials'''\n",
    "i = np.argmax(s_RMSE)\n",
    "# print(data.info['subj_id'][i], i, s_RMSE[i])\n",
    "for i in range(len(s_RMSE)):\n",
    "    if 0.1475 - s_RMSE[i] < 0.01:\n",
    "        print(data.info['subj_id'][i], i, s_RMSE[i])"
   ]
  },
  {
   "cell_type": "code",
   "execution_count": 166,
   "metadata": {},
   "outputs": [],
   "source": [
    "'''Loading fitting results'''\n",
    "b2 = []\n",
    "k2 = []\n",
    "s_RMSE = []\n",
    "s_MAE = []\n",
    "s_MSE = []\n",
    "\n",
    "with open('fitting_results_Fajen_steer_exp1a_2020-6-7-1-40-35.csv', 'r') as file:\n",
    "    for line in file:\n",
    "        if line != '\\n':\n",
    "            line = line.split(',')\n",
    "            args = line[2].split('/')\n",
    "#             if float(args[1]) < 5 and float(args[3]) < 5:\n",
    "            b2.append(float(args[1]))\n",
    "            k2.append(float(args[3]))\n",
    "            err = line[4].split('/')        \n",
    "            s_RMSE.append(float(err[0]))\n",
    "            s_MAE.append(float(err[1]))\n",
    "            s_MSE.append(float(err[2]))"
   ]
  },
  {
   "cell_type": "code",
   "execution_count": 167,
   "metadata": {},
   "outputs": [
    {
     "data": {
      "text/plain": [
       "Text(0.5, 0, 's')"
      ]
     },
     "execution_count": 167,
     "metadata": {},
     "output_type": "execute_result"
    }
   ],
   "source": [
    "'''Plot fitting results'''\n",
    "%matplotlib qt\n",
    "fig = plt.figure()\n",
    "ax = fig.add_subplot(111, projection='3d')\n",
    "ax.scatter(b2, k2, s_RMSE, marker='o', c='r')\n",
    "ax.set_xlabel('b2')\n",
    "ax.set_ylabel('k2')\n",
    "ax.set_zlabel('s')"
   ]
  },
  {
   "cell_type": "code",
   "execution_count": 177,
   "metadata": {},
   "outputs": [
    {
     "name": "stdout",
     "output_type": "stream",
     "text": [
      "4.83 6.04 0.0475\n",
      "4.83 6.04 0.0475\n",
      "4.43 5.44 0.0475\n",
      "4.63 5.64 0.0475\n"
     ]
    }
   ],
   "source": [
    "'''Find the best fit parameters'''\n",
    "i0 = np.argmin(s_RMSE)\n",
    "print(b2[i0], k2[i0], s_RMSE[i0])\n",
    "for i in range(len(b2)):\n",
    "    if s_RMSE[i] - s_RMSE[i0] < 0.00005:\n",
    "        print(b2[i], k2[i], s_RMSE[i])\n",
    "        plt.scatter(k2[i], b2[i])\n",
    "plt.plot([3.07, 9.98], [2.84, 7.58])"
   ]
  },
  {
   "cell_type": "markdown",
   "metadata": {},
   "source": [
    "# movObst"
   ]
  },
  {
   "cell_type": "code",
   "execution_count": 3,
   "metadata": {},
   "outputs": [],
   "source": [
    "file = os.path.abspath(os.path.join(os.getcwd(), os.pardir, 'data\\\\Cohen_movObst_exp1_data.pickle'))\n",
    "with open(file, 'rb') as f:\n",
    "    data = pickle.load(f)"
   ]
  },
  {
   "cell_type": "code",
   "execution_count": null,
   "metadata": {},
   "outputs": [],
   "source": [
    "'''Animate data'''\n",
    "%matplotlib qt\n",
    "i = 0\n",
    "p_obst = np.array(data.info['p_obst'][i])\n",
    "p_goal = np.array(data.info['p_goal'][i])\n",
    "p_subj = np.array(data.get_traj(i))[:,:2]\n",
    "trajs = [p_goal, p_obst, p_subj]\n",
    "ws = [data.info['w_goal'], data.info['w_obst'], 0.4]\n",
    "play_trajs(trajs, ws, data.Hz)"
   ]
  },
  {
   "cell_type": "code",
   "execution_count": 17,
   "metadata": {},
   "outputs": [],
   "source": [
    "'''Plot speed'''\n",
    "for i in range(len(data.trajs)):\n",
    "    if i not in data.dump:\n",
    "        t0 = data.info['stimuli_onset'][i]\n",
    "        spd = traj_speed(np.array(data.get_traj(i))[t0:,:2], data.Hz)\n",
    "        plt.plot(spd)"
   ]
  },
  {
   "cell_type": "code",
   "execution_count": 39,
   "metadata": {},
   "outputs": [],
   "source": [
    "'''movObst test'''\n",
    "\n",
    "tests = []\n",
    "\n",
    "w = 0.4\n",
    "vector_approach = {'name': 'vector_approach', 'ps': 1.3, 't_relax': 1}\n",
    "perpendicular_acceleration_avoid = {'name': 'perpendicular_acceleration_avoid', 'k': 1, 'c': 1}\n",
    "\n",
    "mass_spring_approach1 = {'name': 'mass_spring_approach1', \n",
    "                         'ps': 1.3, 'b_1': 3.25, 'b_2': 2.3, 'k_1':7.5, 'k_2': 2, 'c_1': 0.4, 'c_2': 0.4}\n",
    "cohen_avoid3 = {'name': 'cohen_avoid3', 'k_1': 530, 'k_2': 50, 'c_5': 6, 'c_6': 1.3, 'c_7': 6, 'c_8': 1.3}\n",
    "\n",
    "models = {'approach': mass_spring_approach1, 'avoid': cohen_avoid3}\n",
    "agent = Agent(1, goal_id=0, w=w, models=models)\n",
    "info = {'w': {'goals': [0.1], 'obsts': [0.1]}, 'ps': []}\n",
    "goals = []\n",
    "obsts = []\n",
    "subjs = []\n",
    "for i in range(len(data.trajs)):\n",
    "    if i in data.dump:\n",
    "        continue\n",
    "\n",
    "    goal = data.info['p_goal'][i]\n",
    "    obst = data.info['p_obst'][i]\n",
    "    subj = np.array(data.get_traj(i))[:,0:2].tolist()\n",
    "    # Define the start and end of a trial for fitting\n",
    "    t0 = data.info['stimuli_onset'][i]\n",
    "    for j in range(t0, len(subj)):\n",
    "        p0 = subj[j]\n",
    "        p1 = obst[j]\n",
    "        v0 = [(a - b) * data.Hz for a, b in zip(subj[j+1], subj[j])]\n",
    "        if abs(beta(p0, p1, v0)) > np.pi / 2:\n",
    "            t1 = j\n",
    "            break    \n",
    "    goals.append([goal[t0:t1]])\n",
    "    obsts.append([obst[t0:t1]])\n",
    "    subjs.append(subj[t0:t1])\n",
    "    info['ps'].append(data.info['ps'][i])\n",
    "\n",
    "Hz = data.Hz\n",
    "tests.append(Tester(agent, goals, obsts, subjs, info, Hz))\n",
    "tests[-1].simulate()\n",
    "\n",
    "#===========================================\n",
    "\n",
    "mass_spring_approach1 = {'name': 'mass_spring_approach1', \n",
    "                         'ps': 1.3, 'b_1': 3.25, 'b_2': 2.3, 'k_1':7.5, 'k_2': 2, 'c_1': 0.4, 'c_2': 0.4}\n",
    "cohen_avoid3 = {'name': 'cohen_avoid3', 'k_1': 530, 'k_2': 10, 'c_5': 6, 'c_6': 1.3, 'c_7': 1, 'c_8': 1.3}\n",
    "models = {'approach': mass_spring_approach1, 'avoid': cohen_avoid3}\n",
    "agent = Agent(1, goal_id=0, w=w, models=models)\n",
    "tests.append(Tester(agent, goals, obsts, subjs, info, Hz))\n",
    "tests[-1].simulate()"
   ]
  },
  {
   "cell_type": "code",
   "execution_count": null,
   "metadata": {},
   "outputs": [],
   "source": [
    "'''Test metrics'''\n",
    "i_test = 0\n",
    "s_RMSE = tests[i_test].test('s_RMSE')\n",
    "print(np.mean(tests[i_test].test('p_dist')),       \n",
    "      np.mean(s_RMSE),\n",
    "      np.mean(tests[i_test].test('phi_RMSE')),\n",
    "      np.mean(tests[i_test].test('s_MAE')),\n",
    "      np.mean(tests[i_test].test('phi_MAE')))"
   ]
  },
  {
   "cell_type": "code",
   "execution_count": null,
   "metadata": {},
   "outputs": [],
   "source": [
    "'''Animate trial'''\n",
    "%matplotlib qt\n",
    "i_test = 0\n",
    "i = 10\n",
    "goal = tests[i_test].goals[i][0]\n",
    "# obst = tests[i_test].obsts[i][0]\n",
    "subjs = tests[i_test].subjs[i]\n",
    "pred = tests[i_test].p_pred[i]\n",
    "play_trajs([goal, subjs, pred], [None, 0.4, 0.4], tests[i_test].Hz, labels=('goal','subj','model'))\n",
    "print(tests[i_test].test('p_dist', i_trial=i),       \n",
    "      tests[i_test].test('s_RMSE', i_trial=i),\n",
    "      tests[i_test].test('phi_RMSE', i_trial=i),\n",
    "      tests[i_test].test('s_MAE', i_trial=i),\n",
    "      tests[i_test].test('phi_MAE', i_trial=i))"
   ]
  },
  {
   "cell_type": "code",
   "execution_count": null,
   "metadata": {},
   "outputs": [],
   "source": [
    "'''Loading fitting results'''\n",
    "b2 = []\n",
    "k2 = []\n",
    "s_RMSE = []\n",
    "s_MAE = []\n",
    "s_MSE = []\n",
    "\n",
    "with open('fitting_results_Fajen_steer_exp1a_2020-6-7-1-40-35.csv', 'r') as file:\n",
    "    for line in file:\n",
    "        if line != '\\n':\n",
    "            line = line.split(',')\n",
    "            args = line[2].split('/')\n",
    "#             if float(args[1]) < 5 and float(args[3]) < 5:\n",
    "            b2.append(float(args[1]))\n",
    "            k2.append(float(args[3]))\n",
    "            err = line[4].split('/')        \n",
    "            s_RMSE.append(float(err[0]))\n",
    "            s_MAE.append(float(err[1]))\n",
    "            s_MSE.append(float(err[2]))"
   ]
  },
  {
   "cell_type": "code",
   "execution_count": null,
   "metadata": {},
   "outputs": [],
   "source": [
    "'''Plot fitting results'''\n",
    "%matplotlib qt\n",
    "fig = plt.figure()\n",
    "ax = fig.add_subplot(111, projection='3d')\n",
    "ax.scatter(b2, k2, s_RMSE, marker='o', c='r')\n",
    "ax.set_xlabel('b2')\n",
    "ax.set_ylabel('k2')\n",
    "ax.set_zlabel('s')"
   ]
  },
  {
   "cell_type": "code",
   "execution_count": null,
   "metadata": {},
   "outputs": [],
   "source": [
    "'''Find the best fit parameters'''\n",
    "i0 = np.argmin(s_RMSE)\n",
    "print(b2[i0], k2[i0], s_RMSE[i0])\n",
    "for i in range(len(b2)):\n",
    "    if s_RMSE[i] - s_RMSE[i0] < 0.00005:\n",
    "        print(b2[i], k2[i], s_RMSE[i])\n",
    "        plt.scatter(k2[i], b2[i])\n",
    "plt.plot([3.07, 9.98], [2.84, 7.58])"
   ]
  }
 ],
 "metadata": {
  "kernelspec": {
   "display_name": "avoidance",
   "language": "python",
   "name": "avoidance"
  },
  "language_info": {
   "codemirror_mode": {
    "name": "ipython",
    "version": 3
   },
   "file_extension": ".py",
   "mimetype": "text/x-python",
   "name": "python",
   "nbconvert_exporter": "python",
   "pygments_lexer": "ipython3",
   "version": "3.6.10"
  }
 },
 "nbformat": 4,
 "nbformat_minor": 2
}
