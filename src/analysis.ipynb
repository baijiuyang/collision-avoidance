{
 "cells": [
  {
   "cell_type": "code",
   "execution_count": 94,
   "metadata": {},
   "outputs": [],
   "source": [
    "# %load_ext autoreload\n",
    "# %autoreload 1\n",
    "# %aimport foo\n",
    "import os\n",
    "import sys\n",
    "import math\n",
    "from packages.models import Model\n",
    "from packages.helper import traj_speed, play_trajs, beta, min_dist, scatter3d\n",
    "import numpy as np\n",
    "from scipy.stats import ttest_rel, ttest_ind\n",
    "from numpy import gradient\n",
    "from numpy.linalg import norm\n",
    "import pickle\n",
    "import matplotlib.pyplot as plt\n",
    "from packages.tester import Tester\n",
    "from packages.simulator import Agent\n",
    "from packages import data_container\n",
    "from mpl_toolkits.mplot3d import Axes3D\n",
    "# For pickle to load the Data object, which is defined in packages.data_container\n",
    "sys.modules['data_container'] = data_container\n",
    "%matplotlib qt\n"
   ]
  },
  {
   "cell_type": "markdown",
   "metadata": {},
   "source": [
    "# Steering to goal"
   ]
  },
  {
   "cell_type": "code",
   "execution_count": 109,
   "metadata": {},
   "outputs": [],
   "source": [
    "file = os.path.abspath(os.path.join(os.getcwd(), os.pardir, 'data\\\\Fajen_steer_exp1a_data.pickle'))\n",
    "with open(file, 'rb') as f:\n",
    "    data = pickle.load(f)"
   ]
  },
  {
   "cell_type": "code",
   "execution_count": 135,
   "metadata": {},
   "outputs": [
    {
     "data": {
      "text/plain": [
       "{0,\n",
       " 1,\n",
       " 2,\n",
       " 3,\n",
       " 4,\n",
       " 5,\n",
       " 6,\n",
       " 7,\n",
       " 8,\n",
       " 9,\n",
       " 10,\n",
       " 11,\n",
       " 12,\n",
       " 13,\n",
       " 14,\n",
       " 15,\n",
       " 16,\n",
       " 17,\n",
       " 18,\n",
       " 19,\n",
       " 20,\n",
       " 21,\n",
       " 22,\n",
       " 23,\n",
       " 24,\n",
       " 25,\n",
       " 26,\n",
       " 27,\n",
       " 28,\n",
       " 29,\n",
       " 30,\n",
       " 31,\n",
       " 32,\n",
       " 33,\n",
       " 34,\n",
       " 35,\n",
       " 36,\n",
       " 37,\n",
       " 38,\n",
       " 39,\n",
       " 40,\n",
       " 41,\n",
       " 42,\n",
       " 43,\n",
       " 44,\n",
       " 45,\n",
       " 46,\n",
       " 47,\n",
       " 48,\n",
       " 49,\n",
       " 50,\n",
       " 51,\n",
       " 52,\n",
       " 53,\n",
       " 54,\n",
       " 55,\n",
       " 56,\n",
       " 57,\n",
       " 58,\n",
       " 59,\n",
       " 60,\n",
       " 61,\n",
       " 62,\n",
       " 63,\n",
       " 64,\n",
       " 65,\n",
       " 66,\n",
       " 67,\n",
       " 68,\n",
       " 69,\n",
       " 70,\n",
       " 71,\n",
       " 72,\n",
       " 73,\n",
       " 74,\n",
       " 75,\n",
       " 76,\n",
       " 77,\n",
       " 78,\n",
       " 79}"
      ]
     },
     "execution_count": 135,
     "metadata": {},
     "output_type": "execute_result"
    }
   ],
   "source": [
    "set(data.info['trial_id'])"
   ]
  },
  {
   "cell_type": "code",
   "execution_count": 116,
   "metadata": {},
   "outputs": [
    {
     "data": {
      "text/plain": [
       "<matplotlib.animation.FuncAnimation at 0x162a1226b38>"
      ]
     },
     "execution_count": 116,
     "metadata": {},
     "output_type": "execute_result"
    }
   ],
   "source": [
    "'''Animate data'''\n",
    "%matplotlib qt\n",
    "i = 51\n",
    "# p_obst = np.array(data.info['p_obst'][i])\n",
    "t0 = data.info['goal_onset'][i]\n",
    "p_goal = np.array(data.info['p_goal'][i])\n",
    "p_subj = np.array(data.get_traj(i))[:,:2]\n",
    "trajs = [p_goal, p_subj]\n",
    "ws = [data.info['w_goal'], 0.4]\n",
    "play_trajs(trajs, ws, data.Hz)"
   ]
  },
  {
   "cell_type": "code",
   "execution_count": 113,
   "metadata": {},
   "outputs": [],
   "source": [
    "'''Plot speed'''\n",
    "%matplotlib qt\n",
    "Hz = data.Hz\n",
    "plt.figure()\n",
    "for i in range(len(data.trajs)):\n",
    "    subj = np.array(data.get_traj(i))[:, :2]\n",
    "    if data.info['subj_id'][i] == 5 and abs(data.info['goal_angle'][i]) == 25:\n",
    "        for j in range(1, len(subj)):\n",
    "            spd1 = norm([(a - b) * Hz for a, b in zip(subj[j], subj[j-1])])\n",
    "            spd2 = norm([(a - b) * Hz for a, b in zip(subj[j+1], subj[j])])\n",
    "            if spd1 > 0.22 and spd2 > spd1:\n",
    "                t0 = j\n",
    "                break\n",
    "        t1 = t0 + 4 * Hz\n",
    "        spd = traj_speed(subj[:], data.Hz)\n",
    "        plt.plot(spd)"
   ]
  },
  {
   "cell_type": "code",
   "execution_count": 136,
   "metadata": {},
   "outputs": [
    {
     "name": "stdout",
     "output_type": "stream",
     "text": [
      "1.080102096073387 0.09249857229889018 640\n"
     ]
    }
   ],
   "source": [
    "'''Find preferred speed'''\n",
    "spds = []\n",
    "Hz = data.Hz\n",
    "plt.figure()\n",
    "for i in range(len(data.trajs)):\n",
    "    subj = np.array(data.get_traj(i))[:, :2]\n",
    "    spd = traj_speed(subj, Hz)[-2*Hz: -1*Hz]\n",
    "    plt.plot(spd)\n",
    "    spds.append(np.mean(spd))\n",
    "print(np.mean(spds), np.std(spds), len(spds))"
   ]
  },
  {
   "cell_type": "code",
   "execution_count": 142,
   "metadata": {},
   "outputs": [
    {
     "data": {
      "text/plain": [
       "640.0"
      ]
     },
     "execution_count": 142,
     "metadata": {},
     "output_type": "execute_result"
    }
   ],
   "source": [
    "'''Speed at stimuli onset'''\n",
    "spds = np.zeros(80)\n",
    "counts = np.zeros(80)\n",
    "Hz = data.Hz\n",
    "plt.figure()\n",
    "for i in range(len(data.trajs)):\n",
    "    subj = np.array(data.get_traj(i))[:, :2]\n",
    "    spd = traj_speed(subj, Hz)\n",
    "    onset = data.info['goal_onset'][i]\n",
    "    i_trial = data.info['trial_id'][i]\n",
    "    spds[i_trial] += spd[onset]\n",
    "    counts[i_trial] += 1\n",
    "spds /= counts\n",
    "plt.plot(spds)\n",
    "sum(counts)"
   ]
  },
  {
   "cell_type": "code",
   "execution_count": 4,
   "metadata": {},
   "outputs": [],
   "source": [
    "'''Steer2Goal test'''\n",
    "\n",
    "tests = []\n",
    "\n",
    "w = 0.4\n",
    "mass_spring_approach1 = {'name': 'mass_spring_approach1', \n",
    "                         'b1': 3.25, 'b2': 4.8, 'k1':7.5, 'k2': 6, 'c1': 0.4, 'c2': 0.4}\n",
    "\n",
    "models = {'approach': mass_spring_approach1}\n",
    "agent = Agent(1, goal_id=0, w=w, models=models)\n",
    "info = {'w': {'goals': [0.1]}, 'ps':[]}\n",
    "goals = []\n",
    "subjs = []\n",
    "obsts = []\n",
    "Hz = data.Hz\n",
    "for i in range(len(data.trajs)):\n",
    "    if i in data.dump:\n",
    "        continue\n",
    "\n",
    "    goal = data.info['p_goal'][i]\n",
    "    subj = np.array(data.get_traj(i))[:,0:2].tolist()\n",
    "    # Define the start and end of a trial for fitting\n",
    "#     t0 = data.info['goal_onset'][i]\n",
    "    for j in range(1, len(subj)):\n",
    "        spd1 = norm([(a - b) * Hz for a, b in zip(subj[j], subj[j-1])])\n",
    "        spd2 = norm([(a - b) * Hz for a, b in zip(subj[j+1], subj[j])])\n",
    "        if spd1 > 0.22 and spd2 > spd1:\n",
    "            t0 = j\n",
    "            break\n",
    "    t1 = t0 + 4 * Hz\n",
    "    goals.append([goal[t0:t1]])\n",
    "    subjs.append(subj[t0:t1])\n",
    "    info['ps'].append(data.info['ps'][i])\n",
    "\n",
    "\n",
    "tests.append(Tester(agent, goals, obsts, subjs, info, Hz))\n",
    "tests[-1].simulate()\n",
    "\n",
    "#===========================================\n"
   ]
  },
  {
   "cell_type": "code",
   "execution_count": 98,
   "metadata": {},
   "outputs": [
    {
     "name": "stdout",
     "output_type": "stream",
     "text": [
      "0.1793757953798874 0.036822098924205786 0.13074688665996761 0.028640737825079275 0.1107502526832798\n"
     ]
    }
   ],
   "source": [
    "'''Test metrics'''\n",
    "i_test = 0\n",
    "s_RMSE = tests[i_test].test('s_RMSE')\n",
    "print(np.mean(tests[i_test].test('p_dist')),\n",
    "      np.mean(s_RMSE),\n",
    "      np.mean(tests[i_test].test('phi_RMSE')),\n",
    "      np.mean(tests[i_test].test('s_MAE')),\n",
    "      np.mean(tests[i_test].test('phi_MAE')))"
   ]
  },
  {
   "cell_type": "code",
   "execution_count": 6,
   "metadata": {},
   "outputs": [
    {
     "name": "stdout",
     "output_type": "stream",
     "text": [
      "-5\n",
      "[0.06116874407789541] [0.04938083095492003] [0.014906020060634765] [0.04312975765040974] [0.01226704233326539]\n"
     ]
    }
   ],
   "source": [
    "'''Animate trial'''\n",
    "%matplotlib qt\n",
    "i_test = 0\n",
    "i = 0\n",
    "goal = tests[i_test].goals[i][0]\n",
    "# obst = tests[i_test].obsts[i][0]\n",
    "subjs = tests[i_test].subjs[i]\n",
    "pred = tests[i_test].p_pred[i]\n",
    "play_trajs([goal, subjs, pred], [None, 0.4, 0.4], tests[i_test].Hz, labels=('goal','subj','model'))\n",
    "print(data.info['goal_angle'][i])\n",
    "print(tests[i_test].test('p_dist', i_trial=i),       \n",
    "      tests[i_test].test('s_RMSE', i_trial=i),\n",
    "      tests[i_test].test('phi_RMSE', i_trial=i),\n",
    "      tests[i_test].test('s_MAE', i_trial=i),\n",
    "      tests[i_test].test('phi_MAE', i_trial=i))\n"
   ]
  },
  {
   "cell_type": "code",
   "execution_count": 48,
   "metadata": {},
   "outputs": [],
   "source": [
    "'''Plot data and model'''\n",
    "%matplotlib qt\n",
    "i_test = 0\n",
    "plt.figure()\n",
    "for i in range(len(tests[i_test].subjs)):\n",
    "    subjs = np.array(tests[i_test].subjs[i])\n",
    "    pred = np.array(tests[i_test].p_pred[i])\n",
    "    plt.plot(subjs[:,0], subjs[:,1], 'k')\n",
    "    \n",
    "plt.figure()\n",
    "for i in range(len(tests[i_test].subjs)):\n",
    "    subjs = np.array(tests[i_test].subjs[i])\n",
    "    pred = np.array(tests[i_test].p_pred[i])\n",
    "    plt.plot(pred[1:-1,0], pred[1:-1,1], 'b')"
   ]
  },
  {
   "cell_type": "code",
   "execution_count": 31,
   "metadata": {},
   "outputs": [
    {
     "name": "stdout",
     "output_type": "stream",
     "text": [
      "0 42 0.15013027324969733\n",
      "1 99 0.13910930168959046\n",
      "1 113 0.10631956769865859\n",
      "2 221 0.11960961334537777\n",
      "7 580 0.11195528213490742\n",
      "7 601 0.11561771589717455\n"
     ]
    }
   ],
   "source": [
    "'''Find worst trials'''\n",
    "i = np.argmax(s_RMSE)\n",
    "# print(data.info['subj_id'][i], i, s_RMSE[i])\n",
    "for i in range(len(s_RMSE)):\n",
    "    if 0.1475 - s_RMSE[i] < 0.05:\n",
    "        print(data.info['subj_id'][i], i, s_RMSE[i])"
   ]
  },
  {
   "cell_type": "code",
   "execution_count": 2,
   "metadata": {},
   "outputs": [],
   "source": [
    "'''Loading fitting results'''\n",
    "b2 = []\n",
    "k2 = []\n",
    "t_relax = []\n",
    "s_RMSE = []\n",
    "s_MAE = []\n",
    "s_MSE = []\n",
    "\n",
    "with open('fitting_results_Fajen_steer_exp1a_2020-6-9-19-8-16.csv', 'r') as file:\n",
    "    for line in file:\n",
    "        if line != '\\n':\n",
    "            line = line.split(',')\n",
    "            args = line[2].split('/')\n",
    "#             if float(args[1]) < 5 and float(args[3]) < 5:\n",
    "            b2.append(float(args[1]))\n",
    "            k2.append(float(args[3]))\n",
    "            t_relax.append(float(args[-1]))\n",
    "            err = line[4].split('/')        \n",
    "            s_RMSE.append(float(err[0]))\n",
    "            s_MAE.append(float(err[1]))\n",
    "            s_MSE.append(float(err[2]))"
   ]
  },
  {
   "cell_type": "code",
   "execution_count": 3,
   "metadata": {},
   "outputs": [
    {
     "data": {
      "text/plain": [
       "Text(0.5, 0, 'RMSE_s')"
      ]
     },
     "execution_count": 3,
     "metadata": {},
     "output_type": "execute_result"
    }
   ],
   "source": [
    "'''Plot fitting results'''\n",
    "%matplotlib qt\n",
    "fig = plt.figure()\n",
    "ax = fig.add_subplot(111, projection='3d')\n",
    "scatter3d(b2, k2, s_RMSE, fig=fig, ax=ax)\n",
    "ax.set_xlabel('b2')\n",
    "ax.set_ylabel('k2')\n",
    "ax.set_zlabel('RMSE_s')"
   ]
  },
  {
   "cell_type": "code",
   "execution_count": 109,
   "metadata": {},
   "outputs": [
    {
     "name": "stdout",
     "output_type": "stream",
     "text": [
      "0.7027027027027026 0.0437\n"
     ]
    },
    {
     "data": {
      "text/plain": [
       "[<matplotlib.lines.Line2D at 0x21dd11ffec8>]"
      ]
     },
     "execution_count": 109,
     "metadata": {},
     "output_type": "execute_result"
    }
   ],
   "source": [
    "'''Find the best fit parameters'''\n",
    "'''mass_spring_approach: t_relax = 0.7'''\n",
    "'''mass_spring_approach1: b2 = 4.8, k2 = 6'''\n",
    "i0 = np.argmin(s_RMSE)\n",
    "print(t_relax[i0], s_RMSE[i0])\n",
    "# print(b2[i0], k2[i0], s_RMSE[i0])\n",
    "for i in range(len(b2)):\n",
    "    if s_RMSE[i] - s_RMSE[i0] < 0.0001:\n",
    "        print(b2[i], k2[i], s_RMSE[i])\n",
    "        plt.scatter(k2[i], b2[i])\n",
    "plt.plot([3.07, 9.98], [2.84, 7.58])"
   ]
  },
  {
   "cell_type": "markdown",
   "metadata": {},
   "source": [
    "# movObst"
   ]
  },
  {
   "cell_type": "code",
   "execution_count": 153,
   "metadata": {},
   "outputs": [],
   "source": [
    "file = os.path.abspath(os.path.join(os.getcwd(), os.pardir, 'data\\\\Cohen_movObst_exp1_data.pickle'))\n",
    "with open(file, 'rb') as f:\n",
    "    data = pickle.load(f)"
   ]
  },
  {
   "cell_type": "code",
   "execution_count": 155,
   "metadata": {},
   "outputs": [],
   "source": [
    "set(data.info['trial_id'])"
   ]
  },
  {
   "cell_type": "code",
   "execution_count": 53,
   "metadata": {},
   "outputs": [
    {
     "name": "stdout",
     "output_type": "stream",
     "text": [
      "3\n"
     ]
    },
    {
     "data": {
      "text/plain": [
       "<matplotlib.animation.FuncAnimation at 0x1628894ed30>"
      ]
     },
     "execution_count": 53,
     "metadata": {},
     "output_type": "execute_result"
    }
   ],
   "source": [
    "'''Animate data'''\n",
    "%matplotlib qt\n",
    "i = 630\n",
    "print(data.info['subj_id'][i])\n",
    "p_obst = np.array(data.info['p_obst'][i])\n",
    "p_goal = np.array(data.info['p_goal'][i])\n",
    "p_subj = np.array(data.get_traj(i))[:,:2]\n",
    "trajs = [p_goal, p_obst, p_subj]\n",
    "ws = [data.info['w_goal'], data.info['w_obst'], 0.4]\n",
    "play_trajs(trajs, ws, data.Hz)"
   ]
  },
  {
   "cell_type": "code",
   "execution_count": 156,
   "metadata": {},
   "outputs": [
    {
     "data": {
      "text/plain": [
       "1005.0"
      ]
     },
     "execution_count": 156,
     "metadata": {},
     "output_type": "execute_result"
    }
   ],
   "source": [
    "'''Speed at stimuli onset'''\n",
    "spds = np.zeros(72)\n",
    "counts = np.zeros(72)\n",
    "Hz = data.Hz\n",
    "plt.figure()\n",
    "for i in range(len(data.trajs)):\n",
    "    if i in data.dump: continue\n",
    "#     if data.info['subj_id'][i] != 1: continue\n",
    "    subj = np.array(data.get_traj(i))[:, :2]\n",
    "    spd = traj_speed(subj, Hz)\n",
    "    onset = data.info['stimuli_onset'][i]\n",
    "    i_trial = data.info['trial_id'][i] - 1\n",
    "    spds[i_trial] += spd[onset]\n",
    "    counts[i_trial] += 1\n",
    "spds /= counts\n",
    "plt.plot(spds)\n",
    "sum(counts)"
   ]
  },
  {
   "cell_type": "code",
   "execution_count": 3,
   "metadata": {},
   "outputs": [],
   "source": [
    "'''Plot speed by passing order'''\n",
    "%matplotlib qt\n",
    "# passing in front\n",
    "# plt.figure()\n",
    "for i in range(len(data.trajs)):\n",
    "    if i not in data.dump and i==0:\n",
    "        subj = np.array(data.get_traj(i))[:,:2]\n",
    "        obst = np.array(data.info['p_obst'][i])\n",
    "        angle = data.info['obst_angle'][i]\n",
    "        t0 = data.info['stimuli_onset'][i]\n",
    "        inx, min_d = min_dist(subj, obst)\n",
    "        spd = traj_speed(subj[t0:], data.Hz)\n",
    "        if min_d > 0: \n",
    "            plt.figure()\n",
    "            plt.hist(spd, bins=np.linspace(0.025, 2.025, 41))\n",
    "            plt.figure()\n",
    "            plt.plot(spd)\n",
    "# passing behind\n",
    "# plt.figure()\n",
    "for i in range(len(data.trajs)):\n",
    "    if i not in data.dump and i==0:\n",
    "        subj = np.array(data.get_traj(i))[:,:2]\n",
    "        obst = np.array(data.info['p_obst'][i])\n",
    "        angle = data.info['obst_angle'][i]\n",
    "        t0 = data.info['stimuli_onset'][i]\n",
    "        inx, min_d = min_dist(subj, obst)\n",
    "        spd = traj_speed(subj[t0:], data.Hz)\n",
    "        if min_d < 0:            \n",
    "            plt.figure()\n",
    "            plt.hist(spd, bins=np.linspace(0.025, 2.025, 41))\n",
    "            plt.figure()\n",
    "            plt.plot(spd)"
   ]
  },
  {
   "cell_type": "code",
   "execution_count": 86,
   "metadata": {},
   "outputs": [
    {
     "name": "stdout",
     "output_type": "stream",
     "text": [
      "1.057098158385917 0.14207330089091316 264\n",
      "1.2134584143975224 0.1267496850798508 264\n",
      "1.140598218046392 0.10999840554418058 264\n",
      "1.0527282964140146 0.12099365311718355 264\n"
     ]
    }
   ],
   "source": [
    "'''Mean speed by timestamps'''\n",
    "spd0 = [] # Speeds at the onset of the stimuli\n",
    "spd1 = [] # Speeds at dca\n",
    "spd2 = [] # Speeds at 1 second after dca\n",
    "spd3 = [] # Speeds at 2 second after dca\n",
    "for i in range(len(data.trajs)):\n",
    "    if i in data.dump: continue\n",
    "#     if i in [453, 597, 630]: continue\n",
    "    if i in [563, 568, 569, 571, 575]: continue\n",
    "    subj = np.array(data.get_traj(i))[:,:2]\n",
    "    obst = np.array(data.info['p_obst'][i])\n",
    "    inx, min_d = min_dist(subj, obst)\n",
    "    if min_d > 0:\n",
    "        t0 = data.info['stimuli_onset'][i]\n",
    "        t1 = inx\n",
    "        t2 = t1 + 1 * data.Hz\n",
    "        t3 = t2 + int(0.5 * data.Hz)\n",
    "        spd = traj_speed(subj, data.Hz)\n",
    "        spd0.append(spd[t0])\n",
    "        spd1.append(spd[t1])\n",
    "        spd2.append(spd[t2])\n",
    "        spd3.append(spd[t3])\n",
    "\n",
    "print(np.mean(spd0), np.std(spd0), len(spd0))\n",
    "print(np.mean(spd1), np.std(spd1), len(spd1))\n",
    "print(np.mean(spd2), np.std(spd2), len(spd2))\n",
    "print(np.mean(spd3), np.std(spd3), len(spd3))"
   ]
  },
  {
   "cell_type": "code",
   "execution_count": 93,
   "metadata": {},
   "outputs": [
    {
     "data": {
      "text/plain": [
       "1.140598218046392"
      ]
     },
     "execution_count": 93,
     "metadata": {},
     "output_type": "execute_result"
    }
   ],
   "source": [
    "i"
   ]
  },
  {
   "cell_type": "code",
   "execution_count": 91,
   "metadata": {},
   "outputs": [
    {
     "data": {
      "text/plain": [
       "Ttest_indResult(statistic=-4.616279574336179, pvalue=4.4909622037383706e-06)"
      ]
     },
     "execution_count": 91,
     "metadata": {},
     "output_type": "execute_result"
    }
   ],
   "source": [
    "'''t test'''\n",
    "ttest_ind(e, f)"
   ]
  },
  {
   "cell_type": "code",
   "execution_count": 20,
   "metadata": {},
   "outputs": [],
   "source": [
    "'''movObst test'''\n",
    "\n",
    "tests = []\n",
    "\n",
    "w = 0.4\n",
    "mass_spring_approach = {'name': 'mass_spring_approach', 'ps': 1.3,\n",
    "                        't_relax': 0.7,\n",
    "                        'b': 3.25, 'k_g': 7.5, 'c1': 0.4, 'c2': 0.4}\n",
    "mass_spring_approach1 = {'name': 'mass_spring_approach1', \n",
    "                         'b1': 3.25, 'b2': 4.8, 'k1':7.5, 'k2': 6, 'c1': 0.4, 'c2': 0.4}\n",
    "cohen_avoid = {'name': 'cohen_avoid', 'ps': 1.3,\n",
    "               'b1': 2.62, 'k1': 375.01, 'c5': 11.05, 'c6': 0.87,\n",
    "               'b2': -0.68, 'k2': -476.03, 'c7': 57.84, 'c8': 18.18}\n",
    "cohen_avoid3 = {'name': 'cohen_avoid3', 'k1': 530, 'k2': 500, 'c5': 6, 'c6': 1.3, 'c7': 6, 'c8': 1.3}\n",
    "cohen_avoid4 = {'name': 'cohen_avoid4', 'k1': 50, 'k2': 50, 'c5': 20, 'c6': 1.3, 'c7': 100, 'c8': 1.3}\n",
    "\n",
    "models = {'approach': mass_spring_approach, 'avoid': cohen_avoid}\n",
    "agent = Agent(1, goal_id=0, w=w, models=models)\n",
    "info = {'w': {'goals': [0.1], 'obsts': [0.1]}, 'ps': []}\n",
    "goals = []\n",
    "obsts = []\n",
    "subjs = []\n",
    "for i in range(len(data.trajs)):\n",
    "    if i in data.dump:\n",
    "        continue\n",
    "\n",
    "    goal = data.info['p_goal'][i]\n",
    "    obst = data.info['p_obst'][i]\n",
    "    subj = np.array(data.get_traj(i))[:,0:2].tolist()\n",
    "    # Define the start and end of a trial for fitting\n",
    "    t0 = data.info['stimuli_onset'][i]\n",
    "    for j in range(t0, len(subj)):\n",
    "        p0 = subj[j]\n",
    "        p1 = obst[j]\n",
    "        v0 = [(a - b) * data.Hz for a, b in zip(subj[j+1], subj[j])]\n",
    "        if abs(beta(p0, p1, v0)) > np.pi / 2:\n",
    "            t1 = j\n",
    "            break    \n",
    "    goals.append([goal[t0:t1]])\n",
    "    obsts.append([obst[t0:t1]])\n",
    "    subjs.append(subj[t0:t1])\n",
    "    info['ps'].append(data.info['ps'][i])\n",
    "\n",
    "Hz = data.Hz\n",
    "tests.append(Tester(agent, goals, obsts, subjs, info, Hz))\n",
    "tests[-1].simulate()\n",
    "\n",
    "#===========================================\n",
    "\n",
    "# models = {'approach': mass_spring_approach1, 'avoid': cohen_avoid4}\n",
    "# agent = Agent(1, goal_id=0, w=w, models=models)\n",
    "# tests.append(Tester(agent, goals, obsts, subjs, info, Hz))\n",
    "# tests[-1].simulate()"
   ]
  },
  {
   "cell_type": "code",
   "execution_count": 21,
   "metadata": {},
   "outputs": [
    {
     "name": "stdout",
     "output_type": "stream",
     "text": [
      "0.19476057624702672 0.11680921773185737 0.1352756995510318 0.10011257551258704 0.10785796250919158\n"
     ]
    }
   ],
   "source": [
    "'''Test metrics'''\n",
    "i_test = 0\n",
    "s_RMSE = tests[i_test].test('s_RMSE')\n",
    "print(np.mean(tests[i_test].test('p_dist')),       \n",
    "      np.mean(s_RMSE),\n",
    "      np.mean(tests[i_test].test('phi_RMSE')),\n",
    "      np.mean(tests[i_test].test('s_MAE')),\n",
    "      np.mean(tests[i_test].test('phi_MAE')))"
   ]
  },
  {
   "cell_type": "code",
   "execution_count": 11,
   "metadata": {},
   "outputs": [
    {
     "name": "stdout",
     "output_type": "stream",
     "text": [
      "[0.10962716828645608] [0.07945198406905166] [0.13914797590369155] [0.07072183174237258] [0.09959991814636837]\n"
     ]
    }
   ],
   "source": [
    "'''Animate trial'''\n",
    "%matplotlib qt\n",
    "# back 1,3,7 front 10,17,18, 117\n",
    "i_test = 0\n",
    "i = 3\n",
    "goal = tests[i_test].goals[i][0]\n",
    "obst = tests[i_test].obsts[i][0]\n",
    "subjs = tests[i_test].subjs[i]\n",
    "pred = tests[i_test].p_pred[i]\n",
    "play_trajs([goal, obst, subjs, pred], [None, 0.1, 0.4, 0.4], tests[i_test].Hz, labels=('goal', 'obst', 'subj', 'model'))\n",
    "print(tests[i_test].test('p_dist', i_trial=i),       \n",
    "      tests[i_test].test('s_RMSE', i_trial=i),\n",
    "      tests[i_test].test('phi_RMSE', i_trial=i),\n",
    "      tests[i_test].test('s_MAE', i_trial=i),\n",
    "      tests[i_test].test('phi_MAE', i_trial=i))"
   ]
  },
  {
   "cell_type": "markdown",
   "metadata": {},
   "source": [
    "# Cohen_avoid"
   ]
  },
  {
   "cell_type": "code",
   "execution_count": 13,
   "metadata": {},
   "outputs": [],
   "source": [
    "'''Loading fitting results'''\n",
    "b1 = []\n",
    "b2 = []\n",
    "k1 = []\n",
    "k2 = []\n",
    "c5 = []\n",
    "c6 = []\n",
    "c7 = []\n",
    "c8 = []\n",
    "p_dist = []\n",
    "s_RMSE = []\n",
    "phi_RMSE = []\n",
    "\n",
    "with open('fitting_results_Cohen_movObst_exp1_2020-6-16-18-29-24.csv', 'r') as file:\n",
    "    for line in file:\n",
    "        if line != '\\n':\n",
    "            line = line.split(',')\n",
    "            args = line[2].split('/')\n",
    "            err = line[4].split('/') \n",
    "            if not np.isnan(float(err[0])):\n",
    "                b1.append(float(args[5]))\n",
    "                k1.append(float(args[6]))\n",
    "                c5.append(float(args[7]))\n",
    "                c6.append(float(args[8]))\n",
    "                b2.append(float(args[9]))\n",
    "                k2.append(float(args[10]))\n",
    "                c7.append(float(args[11]))\n",
    "                c8.append(float(args[12]))\n",
    "                p_dist.append(float(err[0]))\n",
    "                s_RMSE.append(float(err[1]))\n",
    "                phi_RMSE.append(float(err[2]))"
   ]
  },
  {
   "cell_type": "code",
   "execution_count": 14,
   "metadata": {},
   "outputs": [
    {
     "data": {
      "text/plain": [
       "Text(0.5, 0, 's_RMSE')"
      ]
     },
     "execution_count": 14,
     "metadata": {},
     "output_type": "execute_result"
    }
   ],
   "source": [
    "'''Plot fitting results'''\n",
    "%matplotlib qt\n",
    "x = []\n",
    "y = []\n",
    "z = []\n",
    "for i in range(len(p_dist)):\n",
    "    if b1[i] == 4 and k1[i] == 400 and c5[i] ==4 and c6[i] == 4 and \\\n",
    "       b2[i] > 0 and k2[i] > 0 and c7[i] == 6 and c8[i] == 2:\n",
    "        x.append(b2[i])\n",
    "        y.append(k2[i])\n",
    "        z.append(s_RMSE[i])\n",
    "fig = plt.figure()\n",
    "ax = fig.add_subplot(111, projection='3d')\n",
    "scatter3d(x, y, z, fig=fig, ax=ax)\n",
    "ax.set_xlabel('b2')\n",
    "ax.set_ylabel('k2')\n",
    "ax.set_zlabel('s_RMSE')"
   ]
  },
  {
   "cell_type": "code",
   "execution_count": 107,
   "metadata": {},
   "outputs": [
    {
     "data": {
      "text/plain": [
       "{1.0, 2.0, 3.0, 4.0}"
      ]
     },
     "execution_count": 107,
     "metadata": {},
     "output_type": "execute_result"
    }
   ],
   "source": [
    "%matplotlib qt\n",
    "# plt.hist(p_dist,100)\n",
    "set(c8)"
   ]
  },
  {
   "cell_type": "code",
   "execution_count": 114,
   "metadata": {
    "scrolled": true
   },
   "outputs": [
    {
     "name": "stdout",
     "output_type": "stream",
     "text": [
      "2.0 600.0 4.0 2.0 1.0 100.0 6.0 2.0 0.2199 0.1214 0.1765 0.1171 0.1555\n",
      "2.0 600.0 4.0 2.0 1.0 100.0 6.0 2.0 0.22\n",
      "2.0 533.33 4.0 2.0 1.0 100.0 6.0 2.0 0.2205\n",
      "2.0 600.0 4.0 2.0 1.0 100.0 7.0 2.0 0.2201\n",
      "2.0 533.33 4.0 2.0 1.0 100.0 7.0 2.0 0.2205\n",
      "2.0 600.0 4.0 2.0 1.0 100.0 8.0 2.0 0.2202\n",
      "2.0 600.0 4.0 2.0 1.0 100.0 9.0 2.0 0.2203\n",
      "2.0 600.0 4.0 2.0 1.0 200.0 6.0 2.0 0.2203\n",
      "2.0 600.0 4.0 2.0 1.0 200.0 6.0 3.0 0.2205\n",
      "2.0 600.0 4.0 2.0 1.0 200.0 7.0 2.0 0.2201\n",
      "2.0 533.33 4.0 2.0 1.0 200.0 7.0 2.0 0.2205\n",
      "2.0 600.0 4.0 2.0 1.0 200.0 8.0 2.0 0.22\n",
      "2.0 533.33 4.0 2.0 1.0 200.0 8.0 2.0 0.2204\n",
      "2.0 600.0 4.0 2.0 1.0 200.0 9.0 2.0 0.2201\n",
      "2.0 533.33 4.0 2.0 1.0 200.0 9.0 2.0 0.2204\n",
      "2.0 600.0 4.0 2.0 1.0 300.0 6.0 3.0 0.2203\n",
      "2.0 600.0 4.0 2.0 1.0 300.0 7.0 3.0 0.2204\n",
      "2.0 600.0 4.0 2.0 1.0 300.0 8.0 2.0 0.2203\n",
      "2.0 600.0 4.0 2.0 1.0 300.0 8.0 3.0 0.2205\n",
      "2.0 600.0 4.0 2.0 1.0 300.0 9.0 2.0 0.2201\n",
      "2.0 600.0 4.0 2.0 1.0 400.0 6.0 3.0 0.2201\n",
      "2.0 533.33 4.0 2.0 1.0 400.0 6.0 3.0 0.2205\n",
      "2.0 600.0 4.0 2.0 1.0 400.0 7.0 3.0 0.2202\n",
      "2.0 600.0 4.0 2.0 1.0 400.0 8.0 3.0 0.2203\n",
      "2.0 600.0 4.0 2.0 1.0 400.0 9.0 3.0 0.2205\n",
      "2.0 533.33 4.0 2.0 1.0 100.0 6.0 2.0 0.2205\n",
      "2.0 533.33 4.0 2.0 1.0 100.0 7.0 2.0 0.2205\n",
      "2.0 600.0 4.0 2.0 1.0 100.0 6.0 2.0 0.2199\n",
      "2.0 600.0 4.0 2.0 1.0 100.0 6.0 3.0 0.2205\n",
      "2.0 600.0 4.0 2.0 1.0 100.0 7.0 2.0 0.2199\n",
      "2.0 600.0 4.0 2.0 1.0 100.0 8.0 2.0 0.22\n",
      "2.0 600.0 4.0 2.0 1.0 100.0 9.0 2.0 0.2201\n",
      "2.0 600.0 4.0 2.0 1.0 200.0 6.0 2.0 0.2202\n",
      "2.0 600.0 4.0 2.0 1.0 200.0 6.0 3.0 0.2203\n",
      "2.0 533.33 4.0 2.0 1.0 200.0 8.0 2.0 0.2204\n",
      "2.0 600.0 4.0 2.0 1.0 200.0 7.0 2.0 0.22\n",
      "2.0 600.0 4.0 2.0 1.0 200.0 7.0 3.0 0.2204\n",
      "2.0 533.33 4.0 2.0 1.0 200.0 9.0 2.0 0.2204\n",
      "2.0 600.0 4.0 2.0 1.0 200.0 8.0 2.0 0.2199\n",
      "2.0 600.0 4.0 2.0 1.0 200.0 8.0 3.0 0.2204\n",
      "2.0 600.0 4.0 2.0 1.0 200.0 9.0 2.0 0.2199\n",
      "2.0 600.0 4.0 2.0 1.0 200.0 9.0 3.0 0.2205\n",
      "2.0 600.0 4.0 2.0 1.0 300.0 6.0 3.0 0.2201\n",
      "2.0 600.0 4.0 2.0 1.0 300.0 7.0 3.0 0.2202\n",
      "2.0 600.0 4.0 2.0 1.0 300.0 8.0 2.0 0.2204\n",
      "2.0 600.0 4.0 2.0 1.0 300.0 8.0 3.0 0.2203\n",
      "2.0 533.33 4.0 2.0 1.0 400.0 6.0 3.0 0.2205\n",
      "2.0 600.0 4.0 2.0 1.0 300.0 9.0 2.0 0.2201\n",
      "2.0 600.0 4.0 2.0 1.0 300.0 9.0 3.0 0.2204\n",
      "2.0 600.0 4.0 2.0 1.0 400.0 6.0 3.0 0.2199\n",
      "2.0 600.0 4.0 2.0 1.0 400.0 7.0 3.0 0.22\n",
      "2.0 600.0 4.0 2.0 1.0 400.0 8.0 3.0 0.2201\n",
      "2.0 600.0 4.0 2.0 1.0 400.0 9.0 3.0 0.2202\n",
      "2.0 600.0 4.0 2.0 1.0 100.0 6.0 2.0 0.2203\n",
      "2.0 600.0 4.0 2.0 1.0 100.0 7.0 2.0 0.2203\n",
      "2.0 600.0 4.0 2.0 1.0 100.0 8.0 2.0 0.2204\n",
      "2.0 600.0 4.0 2.0 1.0 100.0 9.0 2.0 0.2205\n",
      "2.0 600.0 4.0 2.0 1.0 200.0 7.0 2.0 0.2204\n",
      "2.0 600.0 4.0 2.0 1.0 200.0 8.0 2.0 0.2202\n",
      "2.0 600.0 4.0 2.0 1.0 200.0 9.0 2.0 0.2202\n",
      "2.0 600.0 4.0 2.0 1.0 300.0 6.0 3.0 0.2205\n",
      "2.0 600.0 4.0 2.0 1.0 300.0 9.0 2.0 0.2203\n",
      "2.0 600.0 4.0 2.0 1.0 400.0 6.0 3.0 0.2204\n",
      "2.0 600.0 4.0 2.0 1.0 400.0 7.0 3.0 0.2204\n",
      "2.0 600.0 4.0 2.0 1.0 400.0 8.0 3.0 0.2205\n",
      "2.0 600.0 4.0 2.0 1.0 100.0 6.0 2.0 0.2205\n",
      "2.0 600.0 4.0 2.0 1.0 100.0 7.0 2.0 0.2205\n",
      "2.0 600.0 4.0 2.0 1.0 200.0 7.0 2.0 0.2205\n",
      "2.0 600.0 4.0 2.0 1.0 200.0 8.0 2.0 0.2204\n",
      "2.0 600.0 4.0 2.0 1.0 200.0 9.0 2.0 0.2203\n",
      "2.0 600.0 4.0 2.0 1.0 300.0 9.0 2.0 0.2205\n",
      "0.12097899999999999\n"
     ]
    }
   ],
   "source": [
    "'''Find the best fit parameters'''\n",
    "'''Cohen_avoid: b1 > 4, k1 < 400, c5 > 4, c6 > 4, \n",
    "                b2 < 1, k2 300, c7 < 6, c8 2, min(p_dist) = 0.2199'''\n",
    "%matplotlib qt\n",
    "i0 = np.argmin(p_dist)\n",
    "err = []\n",
    "print(b1[i0], k1[i0], c5[i0], c6[i0], b2[i0], k2[i0], c7[i0], c8[i0], p_dist[i0], s_RMSE[i0], phi_RMSE[i0],\n",
    "      min(s_RMSE), min(phi_RMSE))\n",
    "for i in range(len(p_dist)):\n",
    "    if p_dist[i] - p_dist[i0] < 0.0006:\n",
    "        print(b1[i0], k1[i], c5[i], c6[i], b2[i0], k2[i], c7[i], c8[i], p_dist[i])\n",
    "    if c8[i] == 3:\n",
    "        err.append(s_RMSE[i])\n",
    "x = np.random.normal(size=len(err))\n",
    "plt.scatter(x, err, s=1)\n",
    "err.sort()\n",
    "print(np.mean(err[:100]))"
   ]
  },
  {
   "cell_type": "markdown",
   "metadata": {},
   "source": [
    "# Cohen_avoid2"
   ]
  },
  {
   "cell_type": "markdown",
   "metadata": {},
   "source": [
    "# Cohen_avoid3 and 4"
   ]
  },
  {
   "cell_type": "code",
   "execution_count": 137,
   "metadata": {},
   "outputs": [],
   "source": [
    "'''Loading fitting results'''\n",
    "k1 = []\n",
    "k2 = []\n",
    "c5 = []\n",
    "c6 = []\n",
    "c7 = []\n",
    "c8 = []\n",
    "p_dist = []\n",
    "s_RMSE = []\n",
    "phi_RMSE = []\n",
    "\n",
    "with open('fitting_results_Cohen_movObst_exp1_2020-6-11-13-17-55.csv', 'r') as file:\n",
    "    for line in file:\n",
    "        if line != '\\n':\n",
    "            line = line.split(',')\n",
    "            args = line[2].split('/')\n",
    "            err = line[4].split('/') \n",
    "            if not np.isnan(float(err[0])):\n",
    "                k1.append(float(args[6]))\n",
    "                k2.append(float(args[7]))\n",
    "                c5.append(float(args[8]))\n",
    "                c6.append(float(args[9]))\n",
    "                c7.append(float(args[10]))\n",
    "                c8.append(float(args[11]))\n",
    "                p_dist.append(float(err[0]))\n",
    "                s_RMSE.append(float(err[1]))\n",
    "                phi_RMSE.append(float(err[2]))"
   ]
  },
  {
   "cell_type": "code",
   "execution_count": null,
   "metadata": {},
   "outputs": [],
   "source": [
    "'''Plot fitting results'''\n",
    "%matplotlib qt\n",
    "fig = plt.figure()\n",
    "ax = fig.add_subplot(111, projection='3d')\n",
    "ax.scatter(b2, k2, s_RMSE, marker='o', c='r')\n",
    "ax.set_xlabel('b2')\n",
    "ax.set_ylabel('k2')\n",
    "ax.set_zlabel('s')"
   ]
  },
  {
   "cell_type": "code",
   "execution_count": 142,
   "metadata": {},
   "outputs": [
    {
     "name": "stdout",
     "output_type": "stream",
     "text": [
      "{100.0, 325.0, 175.0, 400.0, 250.0}\n",
      "{0.5, 2.88, 5.25, 7.62, 10.0}\n",
      "{0.5, 2.88, 5.25, 7.62, 10.0}\n",
      "{100.0, 325.0, 175.0, 400.0, 250.0}\n",
      "{0.5, 2.88, 5.25, 7.62, 10.0}\n",
      "{0.5, 2.88, 5.25, 7.62, 10.0}\n"
     ]
    }
   ],
   "source": [
    "print(set(k1))\n",
    "print(set(c5))\n",
    "print(set(c6))\n",
    "print(set(k2))\n",
    "print(set(c7))\n",
    "print(set(c8))"
   ]
  },
  {
   "cell_type": "code",
   "execution_count": 156,
   "metadata": {
    "scrolled": true
   },
   "outputs": [
    {
     "name": "stdout",
     "output_type": "stream",
     "text": [
      "250.0 10.0 5.25 100.0 10.0 5.25 0.1897 0.1102 0.1368 0.104 0.133\n",
      "100.0 7.62 10.0 100.0 10.0 5.25 0.1901 0.1102 0.1373\n",
      "100.0 7.62 10.0 175.0 10.0 2.88 0.1901 0.1102 0.1374\n",
      "175.0 10.0 7.62 100.0 7.62 2.88 0.1901 0.1099 0.1372\n",
      "175.0 10.0 7.62 100.0 7.62 5.25 0.1901 0.1107 0.1366\n",
      "175.0 10.0 7.62 100.0 10.0 5.25 0.1898 0.1102 0.1368\n",
      "175.0 10.0 7.62 100.0 10.0 7.62 0.19 0.111 0.1366\n",
      "175.0 10.0 7.62 175.0 7.62 2.88 0.1901 0.1108 0.1366\n",
      "175.0 10.0 7.62 175.0 10.0 2.88 0.1898 0.1102 0.1368\n",
      "175.0 10.0 7.62 250.0 10.0 2.88 0.19 0.1111 0.1366\n",
      "250.0 10.0 5.25 100.0 7.62 2.88 0.19 0.1099 0.1373\n",
      "250.0 10.0 5.25 100.0 7.62 5.25 0.1901 0.1107 0.1366\n",
      "250.0 10.0 5.25 100.0 10.0 5.25 0.1897 0.1102 0.1368\n",
      "250.0 10.0 5.25 100.0 10.0 7.62 0.19 0.111 0.1366\n",
      "250.0 10.0 5.25 175.0 7.62 2.88 0.19 0.1107 0.1366\n",
      "250.0 10.0 5.25 175.0 10.0 2.88 0.1897 0.1102 0.1368\n",
      "250.0 10.0 5.25 250.0 10.0 2.88 0.19 0.1111 0.1366\n",
      "325.0 7.62 2.88 100.0 10.0 5.25 0.1901 0.1101 0.1386\n",
      "325.0 7.62 2.88 175.0 10.0 2.88 0.1901 0.1101 0.1386\n",
      "400.0 10.0 2.88 175.0 10.0 2.88 0.1901 0.1104 0.1371\n",
      "0.21505066666666664\n"
     ]
    }
   ],
   "source": [
    "'''Find the best fit parameters'''\n",
    "'''Cohen_avoid3: k1 around 200, c5 >= 7.5, c6 around 5, k2 >= 300, c7 around 5, c8 >= 7.5, min(p_dist) = 0.1897'''\n",
    "'''Cohen_avoid4: b1 '''\n",
    "%matplotlib qt\n",
    "i0 = np.argmin(p_dist)\n",
    "err = []\n",
    "print(k1[i0], c5[i0], c6[i0], k2[i0], c7[i0], c8[i0], p_dist[i0], s_RMSE[i0], phi_RMSE[i0],\n",
    "      min(s_RMSE), min(phi_RMSE))\n",
    "for i in range(len(p_dist)):\n",
    "    if p_dist[i] - p_dist[i0] < 0.0005:\n",
    "        print(k1[i], c5[i], c6[i], k2[i], c7[i], c8[i], p_dist[i], s_RMSE[i], phi_RMSE[i])\n",
    "    if c5[i] == 0.5:\n",
    "        err.append(p_dist[i])\n",
    "x = np.random.normal(size=len(err))\n",
    "plt.scatter(x, err, s=1)\n",
    "err.sort()\n",
    "print(np.mean(err[:300]))\n"
   ]
  }
 ],
 "metadata": {
  "kernelspec": {
   "display_name": "Python 3",
   "language": "python",
   "name": "python3"
  },
  "language_info": {
   "codemirror_mode": {
    "name": "ipython",
    "version": 3
   },
   "file_extension": ".py",
   "mimetype": "text/x-python",
   "name": "python",
   "nbconvert_exporter": "python",
   "pygments_lexer": "ipython3",
   "version": "3.6.8"
  }
 },
 "nbformat": 4,
 "nbformat_minor": 2
}
