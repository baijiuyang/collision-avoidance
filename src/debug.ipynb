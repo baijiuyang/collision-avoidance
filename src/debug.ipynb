{
 "cells": [
  {
   "cell_type": "code",
   "execution_count": 1,
   "metadata": {},
   "outputs": [],
   "source": [
    "from packages.models import Model\n",
    "import numpy as np"
   ]
  },
  {
   "cell_type": "code",
   "execution_count": 4,
   "metadata": {},
   "outputs": [
    {
     "data": {
      "text/plain": [
       "{'ax': 0,\n",
       " 'ay': 0,\n",
       " 'd_s': array([0.975, 0.975]),\n",
       " 'dd_phi': array([-0.325, -0.325])}"
      ]
     },
     "execution_count": 4,
     "metadata": {},
     "output_type": "execute_result"
    }
   ],
   "source": [
    "'''Testing whether Model object takes array input'''\n",
    "p0 = [1,1]\n",
    "p1 = [2,2]\n",
    "v0 = [1,1]\n",
    "v1 = [2,2]\n",
    "s0 = 1\n",
    "phi = 0.5\n",
    "d_phi = 0.1\n",
    "w = 0.5\n",
    "inputs = {'p0': p0, 'p1': p1, 'v0': v0, 'v1': v1, 's0': s0, 'phi': phi, 'd_phi': d_phi, 'w': w}\n",
    "inputs2 = {'p0': np.array([p0, p0]), 'p1': np.array([p1, p1]), 'v0': np.array([v0, v0]), 'v1': np.array([v1,v1]), \n",
    "           's0': np.array([s0,s0]), 'phi': np.array([phi,phi]), 'd_phi': np.array([d_phi,d_phi]), 'w': np.array([w,w])}\n",
    "mass_spring_approach = {'name': 'mass_spring_approach', 'sp': 1.3, 't_relax': 1, 'b': 3.25, 'k_g': 7.5, 'c_1': 0.4, 'c_2': 0.4}\n",
    "perpendicular_acceleration_avoid = {'name': 'perpendicular_acceleration_avoid', 'k': 10, 'c': 1}\n",
    "cohen_avoid = {'name': 'cohen_avoid', 'sp': 1.3, 'b': 3.25, 'k_mo': 530, 'c_5': 6, 'c_6': 1.3}\n",
    "cohen_avoid1 = {'name': 'cohen_avoid1', 'sp': 1.3, 'b': 3.25, 'k_mo': 530, 'c_5': 6, 'c_6': 1.3}\n",
    "\n",
    "model = Model(cohen_avoid1)\n",
    "model(inputs2, 1)"
   ]
  }
 ],
 "metadata": {
  "kernelspec": {
   "display_name": "avoidance",
   "language": "python",
   "name": "avoidance"
  },
  "language_info": {
   "codemirror_mode": {
    "name": "ipython",
    "version": 3
   },
   "file_extension": ".py",
   "mimetype": "text/x-python",
   "name": "python",
   "nbconvert_exporter": "python",
   "pygments_lexer": "ipython3",
   "version": "3.6.10"
  }
 },
 "nbformat": 4,
 "nbformat_minor": 2
}
