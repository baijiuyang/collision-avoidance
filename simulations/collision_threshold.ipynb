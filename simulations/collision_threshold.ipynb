{
 "cells": [
  {
   "cell_type": "code",
   "execution_count": 1,
   "metadata": {},
   "outputs": [],
   "source": [
    "import math\n",
    "import numpy as np\n",
    "from numpy.linalg import norm\n",
    "from math import sqrt\n",
    "from matplotlib import pyplot as plt\n",
    "from helper import rate_of_expansion, rate_of_bearing, bearing, simple_gaussian, broken_sigmoid, minimum_separation\n"
   ]
  },
  {
   "cell_type": "code",
   "execution_count": 14,
   "metadata": {},
   "outputs": [
    {
     "data": {
      "text/plain": [
       "(0.8944271909999161, 1.5999999999999996)"
      ]
     },
     "execution_count": 14,
     "metadata": {},
     "output_type": "execute_result"
    }
   ],
   "source": [
    "# Generate trajectories for two agents\n",
    "n = 1000 # number of frames\n",
    "w = 4 # width of each agent\n",
    "# Agent 0 passing in front of agent 1\n",
    "x0 = np.zeros(n)\n",
    "y0 = np.linspace(sqrt(w) - 10, sqrt(w), num=n)\n",
    "# y0 = np.linspace(-10, 0, num=n)\n",
    "p0_f = np.stack((x0, y0), axis=-1)\n",
    "x1 = np.linspace(-sqrt(w) - 10, -sqrt(w), num=n)\n",
    "# x1 = np.append(np.linspace(-9.9, -4.9, num=int(n/2)), np.linspace(-4.9, 0.1, num=int(n/2)))\n",
    "y1 = np.zeros(n)\n",
    "p1_f = np.stack((x1, y1), axis=-1)\n",
    "\n",
    "# Agent 0 passing behind agent 1\n",
    "p0_b = p0_f - [0, 2 * sqrt(w)]\n",
    "p1_b = p1_f + [2 * sqrt(w), 0]\n",
    "\n",
    "\n",
    "\n",
    "def collision_trajectory(bearing, side, spd1=1.0, w=0.8, r=10, Hz=100):\n",
    "    '''\n",
    "    This function produces near-collision trajectories of circular agents 0 and 1 with \n",
    "    a defined bearing angle. The speed of agent 1 is constant. The speed of agent 0 will \n",
    "    vary to guarantee near-collision. \n",
    "    \n",
    "    Args:\n",
    "        bearing (float, 0-90): The initial bearing angle between A and B in degree. Bearing \n",
    "            angle is defined as the angle between the line of sight and heading direction.        \n",
    "        side (char): Agent 0 pass in front ('f'), or from behind ('b') agent 1. \n",
    "        spd1 (float): The speed of agent 1 in meter/second.\n",
    "        w (float): The diameter of both agents in meters.\n",
    "        r (float): The distance from agent 1 to origin of the coordinate system. \n",
    "        Hz (int): Number of Hz for the simulation.\n",
    "        \n",
    "    Return:\n",
    "        traj0, traj1 (2-d np array): Near-collision trajectories of agent 1 and agent 0 in \n",
    "            meters.\n",
    "        spd0 (float): The speed of agent 0 to achieve near-collision with agent 1.\n",
    "    '''\n",
    "    alpha = (180 - 2 * bearing) * 2 * math.pi / 360 # Central angle of line of sight\n",
    "    p1 = (-r * np.sin(alpha), -r * np.cos(alpha))\n",
    "    p0 = (0, -r)\n",
    "    v1 = (spd1 * np.sin(alpha), spd1 * np.cos(alpha))\n",
    "    dca, ttca = minimum_separation(p0, p1, v0, v1)\n",
    "    \n",
    "    return traj0, traj1, spd0\n",
    "\n",
    "\n",
    "\n",
    "\n",
    "\n"
   ]
  },
  {
   "cell_type": "code",
   "execution_count": 3,
   "metadata": {},
   "outputs": [],
   "source": [
    "v0 = np.tile([0, 1], (n, 1))\n",
    "v1 = np.tile([1, 0], (n, 1))\n",
    "    \n",
    "    \n",
    "d_beta_f = rate_of_bearing(p0_f, p1_f, v0) * 100\n",
    "d_beta_b = rate_of_bearing(p0_b, p1_b, v0) * 100\n",
    "beta_f = bearing(p0_f, p1_f, v0)\n",
    "beta_b = bearing(p0_b, p1_b, v0)\n",
    "\n",
    "d_beta_f_gaussian = simple_gaussian(d_beta_f, 0.1, 10)\n",
    "d_beta_f_sigmoid = broken_sigmoid(d_beta_f, 0.001, 40)\n",
    "d_beta_b_gaussian = simple_gaussian(d_beta_b, 0.1, 10);\n",
    "d_beta_b_sigmoid = broken_sigmoid(d_beta_b, 0.001, 40)\n",
    "\n",
    "d_theta = rate_of_expansion(p0_f, p1_f, v0, v1, 2, relative=False)\n",
    "d_theta_relative = rate_of_expansion(p0_f, p1_f, np.tile([0, 1], (n, 1)), np.tile([1, 0], (n, 1)), 2, relative=True)\n",
    "\n",
    "\n"
   ]
  },
  {
   "cell_type": "code",
   "execution_count": 4,
   "metadata": {},
   "outputs": [
    {
     "name": "stderr",
     "output_type": "stream",
     "text": [
      "No handles with labels found to put in legend.\n"
     ]
    },
    {
     "data": {
      "text/plain": [
       "<matplotlib.legend.Legend at 0x1cf6d114dd8>"
      ]
     },
     "execution_count": 4,
     "metadata": {},
     "output_type": "execute_result"
    }
   ],
   "source": [
    "# Plot\n",
    "%matplotlib qt\n",
    "# plt.plot(d_beta_f, label='d_beta_f')\n",
    "# plt.plot(d_theta_relative, label='d_theta_relative')\n",
    "\n",
    "# Critical d bearing angle as a function of (relative) rate of expansion\n",
    "plt.plot(d_theta_relative[0:860], d_beta_f[0:860])\n",
    "\n",
    "# Gaussian function of d bearing angle\n",
    "# plt.plot(d_beta_b_gaussian)\n",
    "# plt.plot(d_theta * d_beta_b_gaussian * 100)\n",
    "# plt.plot([(10 - np.sqrt(2))*100, (10 - np.sqrt(2))*100],[0, 0.3]) # the moment when bearing angle is 90\n",
    "# plt.plot(x, simple_gaussian(x, 2, 0.1))\n",
    "# plt.plot(x, broken_sigmoid(x, 1, 20))\n",
    "\n",
    "plt.legend()"
   ]
  }
 ],
 "metadata": {
  "kernelspec": {
   "display_name": "avoidance",
   "language": "python",
   "name": "avoidance"
  },
  "language_info": {
   "codemirror_mode": {
    "name": "ipython",
    "version": 3
   },
   "file_extension": ".py",
   "mimetype": "text/x-python",
   "name": "python",
   "nbconvert_exporter": "python",
   "pygments_lexer": "ipython3",
   "version": "3.6.10"
  }
 },
 "nbformat": 4,
 "nbformat_minor": 2
}
