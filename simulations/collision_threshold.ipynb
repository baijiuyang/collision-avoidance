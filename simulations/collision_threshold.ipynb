{
 "cells": [
  {
   "cell_type": "code",
   "execution_count": 1,
   "metadata": {},
   "outputs": [],
   "source": [
    "import math\n",
    "import numpy as np\n",
    "from numpy.linalg import norm\n",
    "from numpy import sqrt\n",
    "from matplotlib import animation, pyplot as plt\n",
    "from helper import rate_of_expansion, rate_of_bearing, bearing, simple_gaussian, broken_sigmoid, minimum_separation,\\\n",
    "    collision_trajectory\n"
   ]
  },
  {
   "cell_type": "code",
   "execution_count": 12,
   "metadata": {},
   "outputs": [],
   "source": [
    "# Generate trajectories for two agents\n",
    "# n = 1000 # number of frames\n",
    "# w = 4 # width of each agent\n",
    "# # Agent 0 passing in front of agent 1\n",
    "# x0 = np.zeros(n)\n",
    "# y0 = np.linspace(sqrt(w) - 10, sqrt(w), num=n)\n",
    "# # y0 = np.linspace(-10, 0, num=n)\n",
    "# p0_f = np.stack((x0, y0), axis=-1)\n",
    "# x1 = np.linspace(-sqrt(w) - 10, -sqrt(w), num=n)\n",
    "# # x1 = np.append(np.linspace(-9.9, -4.9, num=int(n/2)), np.linspace(-4.9, 0.1, num=int(n/2)))\n",
    "# y1 = np.zeros(n)\n",
    "# p1_f = np.stack((x1, y1), axis=-1)\n",
    "\n",
    "# # Agent 0 passing behind agent 1\n",
    "# p0_b = p0_f - [0, 2 * sqrt(w)]\n",
    "# p1_b = p1_f + [2 * sqrt(w), 0]\n",
    "\n",
    "# v0 = np.tile([0, 1], (n, 1))\n",
    "# v1 = np.tile([1, 0], (n, 1))\n",
    "    \n",
    "    \n",
    "# d_beta_f = rate_of_bearing(p0_f, p1_f, v0) * 100\n",
    "# d_beta_b = rate_of_bearing(p0_b, p1_b, v0) * 100\n",
    "# beta_f = bearing(p0_f, p1_f, v0)\n",
    "# beta_b = bearing(p0_b, p1_b, v0)\n",
    "\n",
    "# d_beta_f_gaussian = simple_gaussian(d_beta_f, 0.1, 10)\n",
    "# d_beta_f_sigmoid = broken_sigmoid(d_beta_f, 0.001, 40)\n",
    "# d_beta_b_gaussian = simple_gaussian(d_beta_b, 0.1, 10);\n",
    "# d_beta_b_sigmoid = broken_sigmoid(d_beta_b, 0.001, 40)\n",
    "\n",
    "# d_theta = rate_of_expansion(p0_f, p1_f, v0, v1, 2, relative=False)\n",
    "# d_theta_relative = rate_of_expansion(p0_f, p1_f, np.tile([0, 1], (n, 1)), np.tile([1, 0], (n, 1)), 2, relative=True)\n"
   ]
  },
  {
   "cell_type": "code",
   "execution_count": 53,
   "metadata": {},
   "outputs": [
    {
     "data": {
      "text/plain": [
       "[<matplotlib.lines.Line2D at 0x22f8831b080>]"
      ]
     },
     "execution_count": 53,
     "metadata": {},
     "output_type": "execute_result"
    }
   ],
   "source": [
    "# Plot\n",
    "%matplotlib qt\n",
    "Hz = 100\n",
    "traj0, traj1, v0, v1 = collision_trajectory(45, 'f', Hz=Hz, animate=True)\n",
    "\n",
    "d_beta = rate_of_bearing(traj0, traj1, v0, Hz=Hz)\n",
    "d_theta = rate_of_expansion(traj0, traj1, v0, v1, 2, relative=False)\n",
    "end = np.argmax(d_beta)\n",
    "\n",
    "plt.figure()\n",
    "# Rate of bearing change and rate of expansion\n",
    "plt.plot(d_beta, label='Rate of Bearing Change')\n",
    "plt.plot(d_theta, label='Rate of Expansion')\n",
    "plt.legend()\n",
    "\n",
    "plt.figure()\n",
    "# Critical rate of bearing change as a function of (relative) rate of expansion\n",
    "plt.plot(d_beta[: end], np.absolute(d_theta[: end]))\n",
    "\n",
    "# Gaussian function of d bearing angle\n",
    "# plt.plot(d_beta_b_gaussian)\n",
    "# plt.plot(d_theta * d_beta_b_gaussian * 100)\n",
    "# plt.plot([(10 - np.sqrt(2))*100, (10 - np.sqrt(2))*100],[0, 0.3]) # the moment when bearing angle is 90\n",
    "# plt.plot(x, simple_gaussian(x, 2, 0.1))\n",
    "# plt.plot(x, broken_sigmoid(x, 1, 20))\n",
    "\n"
   ]
  },
  {
   "cell_type": "code",
   "execution_count": 52,
   "metadata": {},
   "outputs": [],
   "source": [
    "# Plot rate of bearing change as a function of (relative) rate of expansion at different angle of interception\n",
    "%matplotlib qt\n",
    "Hz = 100\n",
    "for i in range(10, 80, 1):\n",
    "    traj0, traj1, v0, v1 = collision_trajectory(i, 'b', Hz=Hz, animate=False)\n",
    "    d_beta = rate_of_bearing(traj0, traj1, v0, Hz=Hz)\n",
    "    d_theta = rate_of_expansion(traj0, traj1, v0, v1, 2, relative=False)\n",
    "    end = np.argmax(d_beta)\n",
    "    plt.scatter(np.absolute(d_beta[: end]), d_theta[: end], marker='.', s=1)\n",
    "    "
   ]
  }
 ],
 "metadata": {
  "kernelspec": {
   "display_name": "avoidance",
   "language": "python",
   "name": "avoidance"
  },
  "language_info": {
   "codemirror_mode": {
    "name": "ipython",
    "version": 3
   },
   "file_extension": ".py",
   "mimetype": "text/x-python",
   "name": "python",
   "nbconvert_exporter": "python",
   "pygments_lexer": "ipython3",
   "version": "3.6.10"
  }
 },
 "nbformat": 4,
 "nbformat_minor": 2
}
