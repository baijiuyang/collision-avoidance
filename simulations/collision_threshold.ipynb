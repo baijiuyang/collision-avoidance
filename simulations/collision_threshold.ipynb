{
 "cells": [
  {
   "cell_type": "code",
   "execution_count": 1,
   "metadata": {},
   "outputs": [],
   "source": [
    "import math\n",
    "from math import pi as PI\n",
    "import numpy as np\n",
    "from numpy.linalg import norm\n",
    "from numpy import sqrt\n",
    "from matplotlib import animation, pyplot as plt\n",
    "from helper import d_beta, d_beta_numeric, beta, simple_gaussian, broken_sigmoid, minimum_separation,\\\n",
    "    collision_trajectory, v2sp, sp2v, sp2a, rotate, theta, d_theta, d_theta_numeric, beta, d_beta, d_beta_numeric,\\\n",
    "    psi, d_psi, d_psi_numeric, phi\n",
    "from simulator import Simulation, Agent\n",
    "from models import Model\n",
    "import pandas as pd"
   ]
  },
  {
   "cell_type": "code",
   "execution_count": 3,
   "metadata": {
    "scrolled": false
   },
   "outputs": [
    {
     "data": {
      "text/plain": [
       "<matplotlib.animation.FuncAnimation at 0x1f165cf9588>"
      ]
     },
     "execution_count": 3,
     "metadata": {},
     "output_type": "execute_result"
    }
   ],
   "source": [
    "%matplotlib qt\n",
    "p0 = np.array(sim.p[0])\n",
    "p1 = np.array(sim.p[1])\n",
    "# plt.scatter(p0[:,0], p0[:,1], s=1)\n",
    "# plt.scatter(p1[:,0], p1[:,1], s=1)\n",
    "sim.play(interval=5, save=True)\n",
    "# len(sim.t)"
   ]
  },
  {
   "cell_type": "code",
   "execution_count": 2,
   "metadata": {},
   "outputs": [
    {
     "name": "stderr",
     "output_type": "stream",
     "text": [
      "D:\\OneDrive\\Dissertation\\simulations\\helper.py:100: RuntimeWarning: invalid value encountered in double_scalars\n",
      "  phi = arccos(inner(v, ref) / s)\n"
     ]
    }
   ],
   "source": [
    "# Create a simulation\n",
    "# (id, goal_id, w, p0, v0, a0, s, phi, d_phi, dd_phi, d_s, p_spd, model_names, model_args, constant, ref=[0,1])\n",
    "agents = []\n",
    "models = ['approach_stationary_goal']\n",
    "args = [{'p_spd': 1.3, 't_relax': 3, 'b': 3.25, 'k_g': 7.5, 'c_1': 0.4, 'c_2': 0.4}]\n",
    "#  'optical_ratio_model'   {'k_s': 0.1, 'k_h': 0.05, 'c': 1}\n",
    "# Goal\n",
    "agents.append(Agent(0, None, None, [10, 10], [0, 0], [0, 0], None, None, 0, 0, 0, 1.3, ['null'], [{}], True))\n",
    "# Agent 1\n",
    "agents.append(Agent(1, 0, 0.5, [0, -10], [0, 1], [0, 0], None, None, 0, 0, 0, 1.3, models, args, False))\n",
    "# Agent 2\n",
    "# agents.append(Agent(2, None, 0.5, [0, 10], [1, -1], [0, 0], None, None, 0, 0, 0, 1.3, ['null'], [{}], True))\n",
    "sim = Simulation(agents, 100)\n",
    "sim.simulate(10)\n"
   ]
  },
  {
   "cell_type": "code",
   "execution_count": 27,
   "metadata": {},
   "outputs": [],
   "source": [
    "# Debug helper functions\n",
    "# %matplotlib qt\n",
    "\n",
    "Hz = 100\n",
    "w = 2\n",
    "\n",
    "p0, p1, v0, v1 = collision_trajectory(20, 'b', spd1=2, w=w, Hz=Hz, animate=False)\n",
    "a0 = np.zeros_like(p0)\n",
    "d_betas1 = d_beta_numeric(p0, p1, v0, Hz)\n",
    "d_betas2 = d_beta(p0, p1, v0, v1, a0)\n",
    "\n",
    "# plt.scatter(range(len(d_betas1)), d_betas1, s=1)\n",
    "# plt.scatter(range(len(d_betas2)), d_betas2, s=1)\n",
    "\n",
    "# with open('d_beta.csv', 'w') as f:\n",
    "#     f.write(','.join(('p0x', 'p0y', 'p1x', 'p1y', 'v0x', 'v0y', 'v1x', 'v1y', 'a0x', 'a0y', 'd_beta numeric', 'd_beta analytic')) + '\\n')\n",
    "#     for i in range(len(p0)):\n",
    "#         f.write(p0[i])\n",
    "data = np.concatenate((p0, p1, v0, v1, a0, np.expand_dims(d_betas1, axis=1), np.expand_dims(d_betas2, axis=1)), axis=1)\n",
    "\n",
    "df = pd.DataFrame(data=data, columns=['p0x', 'p0y', 'p1x', 'p1y', 'v0x', 'v0y', 'v1x', 'v1y', 'a0x', 'a0y', 'd_beta_numeric', 'd_beta_analytic'])\n",
    "df.to_csv(\"d_beta.csv\", index=False)\n"
   ]
  },
  {
   "cell_type": "code",
   "execution_count": 5,
   "metadata": {},
   "outputs": [
    {
     "data": {
      "text/plain": [
       "(array([1.41421356]), array([0.78539816]))"
      ]
     },
     "execution_count": 5,
     "metadata": {},
     "output_type": "execute_result"
    }
   ],
   "source": [
    "# Run the simulation\n",
    "sim.p[0]\n",
    "\n",
    "\n",
    "\n"
   ]
  },
  {
   "cell_type": "code",
   "execution_count": 7,
   "metadata": {},
   "outputs": [
    {
     "data": {
      "text/plain": [
       "[<matplotlib.lines.Line2D at 0x1deb9aa9e08>]"
      ]
     },
     "execution_count": 7,
     "metadata": {},
     "output_type": "execute_result"
    }
   ],
   "source": [
    "# Plot\n",
    "%matplotlib qt\n",
    "Hz = 100\n",
    "traj0, traj1, v0, v1 = collision_trajectory(20, 'b', spd1=2, w=2, Hz=Hz, animate=True)\n",
    "\n",
    "d_betas = np.absolute(d_beta_numeric(traj0, traj1, v0, Hz=Hz))\n",
    "# d_beta2 = rate_of_bearing2(traj0, traj1, v0, v1, np.tile([0, 0], [len(v0), 1]))\n",
    "d_thetas = d_theta(traj0, traj1, v0, v1, 2)\n",
    "end = np.argmax(np.absolute(d_betas))\n",
    "\n",
    "plt.figure()\n",
    "# Rate of bearing change and rate of expansion\n",
    "plt.plot(d_betas, label='Rate of Bearing Change')\n",
    "# plt.plot(d_beta2, label='Rate of Bearing Change2')\n",
    "plt.plot(d_thetas, label='Rate of Expansion')\n",
    "plt.legend()\n",
    "\n",
    "plt.figure()\n",
    "# Critical rate of bearing change as a function of (relative) rate of expansion\n",
    "ratio = d_thetas[: end] / d_betas[: end]\n",
    "plt.plot(range(0, len(ratio)), ratio)\n",
    "\n",
    "\n",
    "# Gaussian function of d bearing angle\n",
    "# plt.plot(d_beta_b_gaussian)\n",
    "# plt.plot(d_theta * d_beta_b_gaussian * 100)\n",
    "# plt.plot([(10 - np.sqrt(2))*100, (10 - np.sqrt(2))*100],[0, 0.3]) # the moment when bearing angle is 90\n",
    "# plt.plot(x, simple_gaussian(x, 2, 0.1))\n",
    "# plt.plot(x, broken_sigmoid(x, 1, 20))\n",
    "\n"
   ]
  },
  {
   "cell_type": "code",
   "execution_count": 17,
   "metadata": {},
   "outputs": [],
   "source": [
    "# Plot rate of bearing change as a function of (relative) rate of expansion at different angle of interception\n",
    "%matplotlib qt\n",
    "Hz = 100\n",
    "for i in range(10, 80, 1):\n",
    "    traj0, traj1, v0, v1 = collision_trajectory(i, 'f', Hz=Hz, animate=False)\n",
    "    d_beta = rate_of_bearing(traj0, traj1, v0, Hz=Hz)\n",
    "    d_theta = rate_of_expansion(traj0, traj1, v0, v1, 2, relative=False)\n",
    "    end = np.argmax(d_beta)\n",
    "#     plt.scatter(np.absolute(d_beta[: end]), d_theta[: end], marker='.', s=1)\n",
    "    plt.scatter(range(0, len(d_beta[: end]/ d_theta[: end])), d_beta[: end]/ d_theta[: end], marker='.', s=1)\n",
    "    "
   ]
  },
  {
   "cell_type": "code",
   "execution_count": 15,
   "metadata": {},
   "outputs": [],
   "source": [
    "# Plot rate of bearing change as a function of (relative) rate of expansion at different speed\n",
    "%matplotlib qt\n",
    "Hz = 100\n",
    "for i in range(8, 16, 1):\n",
    "    i = i / 10.0\n",
    "    traj0, traj1, v0, v1 = collision_trajectory(45, 'f', spd1=i, Hz=Hz, animate=False)\n",
    "    d_beta = rate_of_bearing(traj0, traj1, v0, Hz=Hz)\n",
    "    d_theta = rate_of_expansion(traj0, traj1, v0, v1, 2, relative=False)\n",
    "    end = np.argmax(d_beta)\n",
    "    plt.scatter(range(0, len(d_beta[: end]/ d_theta[: end])), d_beta[: end]/ d_theta[: end], marker='.', s=1)"
   ]
  },
  {
   "cell_type": "code",
   "execution_count": 18,
   "metadata": {},
   "outputs": [],
   "source": [
    "# Plot rate of bearing change as a function of (relative) rate of expansion with different width\n",
    "%matplotlib qt\n",
    "Hz = 100\n",
    "for i in range(2, 20, 1):\n",
    "    i = i / 10.0\n",
    "    traj0, traj1, v0, v1 = collision_trajectory(45, 'f', w=i, Hz=Hz, animate=False)\n",
    "    d_beta = rate_of_bearing(traj0, traj1, v0, Hz=Hz)\n",
    "    d_theta = rate_of_expansion(traj0, traj1, v0, v1, 2, relative=False)\n",
    "    end = np.argmax(d_beta)\n",
    "    plt.scatter(range(0, len(d_beta[: end]/ d_theta[: end])), d_beta[: end]/ d_theta[: end], marker='.', s=1)"
   ]
  }
 ],
 "metadata": {
  "kernelspec": {
   "display_name": "Python 3",
   "language": "python",
   "name": "python3"
  },
  "language_info": {
   "codemirror_mode": {
    "name": "ipython",
    "version": 3
   },
   "file_extension": ".py",
   "mimetype": "text/x-python",
   "name": "python",
   "nbconvert_exporter": "python",
   "pygments_lexer": "ipython3",
   "version": "3.6.8"
  }
 },
 "nbformat": 4,
 "nbformat_minor": 2
}
