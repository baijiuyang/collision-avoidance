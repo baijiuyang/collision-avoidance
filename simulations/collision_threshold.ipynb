{
 "cells": [
  {
   "cell_type": "code",
   "execution_count": 1,
   "metadata": {},
   "outputs": [],
   "source": [
    "import math\n",
    "from math import pi as PI\n",
    "import numpy as np\n",
    "from numpy.linalg import norm\n",
    "from numpy import sqrt\n",
    "from matplotlib import animation, pyplot as plt\n",
    "from helper import d_beta, d_beta_numeric, beta, simple_gaussian, broken_sigmoid, minimum_separation,\\\n",
    "    collision_trajectory, v2sp, sp2v, sp2a, rotate, theta, d_theta, d_theta_numeric, beta, d_beta, d_beta_numeric,\\\n",
    "    psi, d_psi, d_psi_numeric, phi\n",
    "from simulator import Simulation, Agent\n",
    "from models import Model\n",
    "import pandas as pd"
   ]
  },
  {
   "cell_type": "code",
   "execution_count": 3,
   "metadata": {
    "scrolled": false
   },
   "outputs": [
    {
     "data": {
      "text/plain": [
       "<matplotlib.animation.FuncAnimation at 0x1cc640fa4a8>"
      ]
     },
     "execution_count": 3,
     "metadata": {},
     "output_type": "execute_result"
    }
   ],
   "source": [
    "'''Simulator debug'''\n",
    "%matplotlib qt\n",
    "p0 = np.array(sim.p[0])\n",
    "p1 = np.array(sim.p[1])\n",
    "# plt.scatter(p0[:,0], p0[:,1], s=1)\n",
    "# plt.scatter(p1[:,0], p1[:,1], s=1)\n",
    "# len(sim.t)"
   ]
  },
  {
   "cell_type": "code",
   "execution_count": 3,
   "metadata": {},
   "outputs": [
    {
     "data": {
      "text/plain": [
       "<matplotlib.animation.FuncAnimation at 0x26fe0d3f4a8>"
      ]
     },
     "execution_count": 3,
     "metadata": {},
     "output_type": "execute_result"
    }
   ],
   "source": [
    "'''Simulation'''\n",
    "# (id, goal_id, w, p0, v0, a0, s, phi, d_phi, dd_phi, d_s, p_spd, model_names, model_args, constant, ref=[0,1])\n",
    "%matplotlib qt\n",
    "agents = []\n",
    "models = ['approach_stationary_goal']\n",
    "args = [{'p_spd': 1.3, 't_relax': 3, 'b': 3.25, 'k_g': 7.5, 'c_1': 0.4, 'c_2': 0.4}]\n",
    "#  'optical_ratio_model'   {'k_s': 0.1, 'k_h': 0.05, 'c': 1}\n",
    "# Goal\n",
    "agents.append(Agent(0, None, None, [5, 5], [0, 0], [0, 0], None, None, 0, 0, 0, 1.3, ['null'], [{}], True))\n",
    "# Agent 1\n",
    "agents.append(Agent(1, 0, 0.5, [0, -5], [0, 1], [0, 0], None, None, 0, 0, 0, 1.3, models, args, False))\n",
    "# Agent 2\n",
    "# agents.append(Agent(2, None, 0.5, [0, 10], [1, -1], [0, 0], None, None, 0, 0, 0, 1.3, ['null'], [{}], True))\n",
    "sim = Simulation(agents, 100)\n",
    "sim.simulate(10)\n",
    "sim.play(interval=None, save=True)"
   ]
  },
  {
   "cell_type": "code",
   "execution_count": 4,
   "metadata": {},
   "outputs": [
    {
     "name": "stderr",
     "output_type": "stream",
     "text": [
      "D:\\OneDrive\\Dissertation\\simulations\\helper.py:264: RuntimeWarning: divide by zero encountered in double_scalars\n",
      "  return - numerator / denominator\n"
     ]
    },
    {
     "data": {
      "text/plain": [
       "[<matplotlib.lines.Line2D at 0x238c74b5da0>]"
      ]
     },
     "execution_count": 4,
     "metadata": {},
     "output_type": "execute_result"
    }
   ],
   "source": [
    "# Debug helper functions\n",
    "%matplotlib qt\n",
    "\n",
    "Hz = 100\n",
    "w = 2\n",
    "ref = [1, 0]\n",
    "p0, p1, v0, v1 = collision_trajectory(45, 'b', spd1=2, w=w, r_min=w, Hz=Hz, animate=False)\n",
    "\n",
    "# d_psi1 = d_psi_numeric(p0, p1, Hz, ref=ref)\n",
    "# d_psi2 = d_psi(p0, p1, v0, v1, ref=ref)\n",
    "# plt.plot(d_psi1)\n",
    "# plt.plot(d_psi2)\n",
    "\n",
    "a0 = np.zeros_like(p0)\n",
    "d_betas1 = d_beta_numeric(p0, p1, v0, Hz)\n",
    "d_betas2 = d_beta(p0, p1, v0, v1, a0)\n",
    "\n",
    "plt.plot(d_betas1)\n",
    "plt.plot(d_betas2)\n",
    "\n",
    "\n",
    "# data = np.concatenate((p0, p1, v0, v1, a0, np.expand_dims(d_betas1, axis=1), np.expand_dims(d_betas2, axis=1)), axis=1)\n",
    "\n",
    "# df = pd.DataFrame(data=data, columns=['p0x', 'p0y', 'p1x', 'p1y', 'v0x', 'v0y', 'v1x', 'v1y', 'a0x', 'a0y', 'd_beta_numeric', 'd_beta_analytic'])\n",
    "# df.to_csv(\"d_beta.csv\", index=False)\n"
   ]
  },
  {
   "cell_type": "code",
   "execution_count": 5,
   "metadata": {},
   "outputs": [
    {
     "data": {
      "text/plain": [
       "(array([1.41421356]), array([0.78539816]))"
      ]
     },
     "execution_count": 5,
     "metadata": {},
     "output_type": "execute_result"
    }
   ],
   "source": [
    "# Run the simulation\n",
    "sim.p[0]\n",
    "\n",
    "\n",
    "\n"
   ]
  },
  {
   "cell_type": "code",
   "execution_count": 23,
   "metadata": {},
   "outputs": [
    {
     "data": {
      "text/plain": [
       "[<matplotlib.lines.Line2D at 0x26fe1914668>]"
      ]
     },
     "execution_count": 23,
     "metadata": {},
     "output_type": "execute_result"
    }
   ],
   "source": [
    "# Plot\n",
    "%matplotlib qt\n",
    "Hz = 100\n",
    "w = 0.5\n",
    "traj0, traj1, v0, v1 = collision_trajectory(20, 'f', spd1=1.3, w=w, r_min=w, Hz=Hz, animate=True)\n",
    "a0 = np.zeros_like(traj0)\n",
    "thetas = theta(traj0, traj1, w)\n",
    "d_betas = np.absolute(d_beta_numeric(traj0, traj1, v0, Hz=Hz))\n",
    "d_thetas = d_theta(traj0, traj1, v0, v1, 2)\n",
    "RRE = d_thetas / thetas\n",
    "end = np.argmax(np.absolute(d_betas))\n",
    "\n",
    "plt.figure()\n",
    "# Rate of bearing change and rate of expansion\n",
    "plt.plot(d_betas, label='d_betas numerical')\n",
    "plt.plot(RRE, label='RRE')\n",
    "plt.legend()\n",
    "\n",
    "plt.figure()\n",
    "# Critical rate of bearing change as a function of (relative) rate of expansion\n",
    "c = 10\n",
    "ratio = (RRE[:end] + c) / (d_betas[:end] + c) - 1\n",
    "plt.plot(ratio)\n",
    "\n"
   ]
  },
  {
   "cell_type": "code",
   "execution_count": 17,
   "metadata": {},
   "outputs": [],
   "source": [
    "# Plot rate of bearing change as a function of (relative) rate of expansion at different angle of interception\n",
    "%matplotlib qt\n",
    "Hz = 100\n",
    "for i in range(10, 80, 1):\n",
    "    traj0, traj1, v0, v1 = collision_trajectory(i, 'f', Hz=Hz, animate=False)\n",
    "    d_beta = rate_of_bearing(traj0, traj1, v0, Hz=Hz)\n",
    "    d_theta = rate_of_expansion(traj0, traj1, v0, v1, 2, relative=False)\n",
    "    end = np.argmax(d_beta)\n",
    "#     plt.scatter(np.absolute(d_beta[: end]), d_theta[: end], marker='.', s=1)\n",
    "    plt.scatter(range(0, len(d_beta[: end]/ d_theta[: end])), d_beta[: end]/ d_theta[: end], marker='.', s=1)\n",
    "    "
   ]
  },
  {
   "cell_type": "code",
   "execution_count": 15,
   "metadata": {},
   "outputs": [],
   "source": [
    "# Plot rate of bearing change as a function of (relative) rate of expansion at different speed\n",
    "%matplotlib qt\n",
    "Hz = 100\n",
    "for i in range(8, 16, 1):\n",
    "    i = i / 10.0\n",
    "    traj0, traj1, v0, v1 = collision_trajectory(45, 'f', spd1=i, Hz=Hz, animate=False)\n",
    "    d_beta = rate_of_bearing(traj0, traj1, v0, Hz=Hz)\n",
    "    d_theta = rate_of_expansion(traj0, traj1, v0, v1, 2, relative=False)\n",
    "    end = np.argmax(d_beta)\n",
    "    plt.scatter(range(0, len(d_beta[: end]/ d_theta[: end])), d_beta[: end]/ d_theta[: end], marker='.', s=1)"
   ]
  },
  {
   "cell_type": "code",
   "execution_count": 18,
   "metadata": {},
   "outputs": [],
   "source": [
    "# Plot rate of bearing change as a function of (relative) rate of expansion with different width\n",
    "%matplotlib qt\n",
    "Hz = 100\n",
    "for i in range(2, 20, 1):\n",
    "    i = i / 10.0\n",
    "    traj0, traj1, v0, v1 = collision_trajectory(45, 'f', w=i, Hz=Hz, animate=False)\n",
    "    d_beta = rate_of_bearing(traj0, traj1, v0, Hz=Hz)\n",
    "    d_theta = rate_of_expansion(traj0, traj1, v0, v1, 2, relative=False)\n",
    "    end = np.argmax(d_beta)\n",
    "    plt.scatter(range(0, len(d_beta[: end]/ d_theta[: end])), d_beta[: end]/ d_theta[: end], marker='.', s=1)"
   ]
  }
 ],
 "metadata": {
  "kernelspec": {
   "display_name": "Python 3",
   "language": "python",
   "name": "python3"
  },
  "language_info": {
   "codemirror_mode": {
    "name": "ipython",
    "version": 3
   },
   "file_extension": ".py",
   "mimetype": "text/x-python",
   "name": "python",
   "nbconvert_exporter": "python",
   "pygments_lexer": "ipython3",
   "version": "3.6.8"
  }
 },
 "nbformat": 4,
 "nbformat_minor": 2
}
