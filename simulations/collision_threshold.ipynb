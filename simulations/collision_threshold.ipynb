{
 "cells": [
  {
   "cell_type": "code",
   "execution_count": 1,
   "metadata": {},
   "outputs": [],
   "source": [
    "import math\n",
    "from math import pi as PI\n",
    "import numpy as np\n",
    "from numpy.linalg import norm\n",
    "from numpy import sqrt\n",
    "from matplotlib import animation, pyplot as plt\n",
    "from helper import d_beta, d_beta_numeric, beta, simple_gaussian, broken_sigmoid, min_sep,\\\n",
    "    collision_trajectory, v2sp, sp2v, sp2a, rotate, theta, d_theta, d_theta_numeric, beta, d_beta, d_beta_numeric,\\\n",
    "    psi, d_psi, d_psi_numeric, phi, av2dsdp\n",
    "from simulator import Simulation, Agent\n",
    "from models import Model\n",
    "import pandas as pd\n",
    "%matplotlib qt\n"
   ]
  },
  {
   "cell_type": "code",
   "execution_count": 3,
   "metadata": {
    "scrolled": false
   },
   "outputs": [],
   "source": [
    "'''Simulator debug'''\n",
    "# p0 = np.array(sim.p[0])\n",
    "# p1 = np.array(sim.p[1])\n",
    "\n",
    "# plt.scatter(p0[:,0], p0[:,1], s=1)\n",
    "# plt.scatter(p1[:,0], p1[:,1], s=1)\n",
    "# len(sim.t)\n",
    "sim.plot_speeds()\n",
    "\n"
   ]
  },
  {
   "cell_type": "code",
   "execution_count": 3,
   "metadata": {},
   "outputs": [
    {
     "data": {
      "text/plain": [
       "(<Figure size 1400x700 with 2 Axes>,\n",
       " <matplotlib.animation.FuncAnimation at 0x29c21bf89e8>)"
      ]
     },
     "execution_count": 3,
     "metadata": {},
     "output_type": "execute_result"
    }
   ],
   "source": [
    "'''Simulation'''\n",
    "# Agent(id, goal_id, w, init_state, p_spd, model_names, model_args, constant, ref=[0, 1])\n",
    "# -------------Models-------------\n",
    "# {'name': 'mass_spring_approach', 'p_spd': 1.3, 't_relax': 3, 'b': 3.25, 'k_g': 7.5, 'c_1': 0.4, 'c_2': 0.4}\n",
    "# {'name': 'optical_ratio_avoid', 'k_s': 0.1, 'k_h': 0.05, 'c': 1}\n",
    "# {'name': 'perpendicular_acceleration_avoid', 'k': 2, 'c': 1}\n",
    "# ------------Scenarios-----------\n",
    "# 0 goal [{'p':[0, 5], 'v':[0, 0]}, {'p':[0, -5], 'v':[0, 1]}]\n",
    "# 45 interception [{'p':[0, 5], 'v':[0, 0]}, {'p':[0, -5], 'v':[0, 1]}, {'p':[-5, 0], 'v':[1, 0]}]\n",
    "# front interception [{'p':[0, 5], 'v':[0, 0]}, {'p':[0, -5], 'v':[0, 1]}, {'p':[3.5, 3.5], 's': 0.9, 'phi': -2.355}]\n",
    "# back interception [{'p':[0, 5], 'v':[0, 0]}, {'p':[0, -5], 'v':[0, 1]}, {'p':[-3.5, -3.5], 's': 1.2, 'phi': 0.7}]\n",
    "# head-on interception [{'p':[0, 5], 'v':[0, 0]}, {'p':[0, -5], 'v':[0, 1]}, {'p':[0, 5], 'v': [0, -1]}]\n",
    "\n",
    "%matplotlib qt\n",
    "models = [{'name': 'mass_spring_approach', 'p_spd': 1.3, 't_relax': 3, 'b': 3.25, 'k_g': 7.5, 'c_1': 0.4, 'c_2': 0.4},\n",
    "         {'name': 'perpendicular_acceleration_avoid', 'k': 3, 'c': 1}]\n",
    "states = [{'p':[0, 5], 'v':[0, 0]}, {'p':[0, -5], 'v':[0, 1]}, {'p':[5, 0], 'v':[-1, 0]}]\n",
    "agents = []\n",
    "# Goal\n",
    "agents.append(Agent(0, constant=True))\n",
    "# Agent 1\n",
    "agents.append(Agent(1, goal_id=0, w=0.5, p_spd=1.3, models=models))\n",
    "# Agent 2\n",
    "agents.append(Agent(2, w=0.5, constant=True))\n",
    "\n",
    "for state, agent in zip(states, agents):\n",
    "    agent.set_init_state(state)\n",
    "     \n",
    "sim = Simulation(agents, 100)\n",
    "sim.simulate(8)\n",
    "sim.play(interval=None, save=False)\n",
    "# sim.plot_speeds()"
   ]
  },
  {
   "cell_type": "code",
   "execution_count": 3,
   "metadata": {},
   "outputs": [],
   "source": [
    "# sim.play(interval=None, save=False)\n",
    "# sim.a[1]\n",
    "trajs = np.stack((p0, p1))\n",
    "for traj in trajs:\n",
    "    plt.plot([p[0] for p in traj], [p[1] for p in traj])"
   ]
  },
  {
   "cell_type": "code",
   "execution_count": 24,
   "metadata": {},
   "outputs": [
    {
     "data": {
      "text/plain": [
       "<matplotlib.legend.Legend at 0x125c0463f28>"
      ]
     },
     "execution_count": 24,
     "metadata": {},
     "output_type": "execute_result"
    }
   ],
   "source": [
    "'''Convert a to d_s and d_phi'''\n",
    "Hz = 100\n",
    "t = 100\n",
    "dt = 1 / Hz\n",
    "#-------av-------\n",
    "x = [0]\n",
    "y = [0]\n",
    "v = [0, 1]\n",
    "a = [1, 0]\n",
    "#-------sp-------\n",
    "s, phi = v2sp(v)\n",
    "v2 = v[:]\n",
    "x2 = x[:]\n",
    "y2 = y[:]\n",
    "s = norm(v2)\n",
    "d_s, d_phi = av2dsdp(v, a)\n",
    "\n",
    "for i in range(t*Hz):\n",
    "    #-------av-------\n",
    "    x.append(x[-1] + v[0] * dt)\n",
    "    y.append(y[-1] + v[1] * dt)\n",
    "    v[0] += a[0] * dt\n",
    "    v[1] += a[1] * dt\n",
    "    #-------sp-------\n",
    "    x2.append(x2[-1] + v2[0] * dt)\n",
    "    y2.append(y2[-1] + v2[1] * dt)\n",
    "    d_s, d_phi = av2dsdp(v2, a)\n",
    "    s += d_s * dt\n",
    "    phi += d_phi * dt\n",
    "    v2 = sp2v(s, phi)\n",
    "    \n",
    "plt.figure(1)\n",
    "plt.title('Overlap two trajectories')\n",
    "plt.plot(x, y)\n",
    "plt.plot(x2, y2)\n",
    "plt.figure(2)\n",
    "plt.title('Difference between two trajectories')\n",
    "plt.plot([i - j for i, j in zip(x, x2)])\n",
    "plt.plot([i - j for i, j in zip(y, y2)])\n",
    "plt.legend(['difference on x', 'difference on y'])"
   ]
  },
  {
   "cell_type": "code",
   "execution_count": 25,
   "metadata": {},
   "outputs": [
    {
     "data": {
      "text/plain": [
       "<matplotlib.legend.Legend at 0x125c3549e80>"
      ]
     },
     "execution_count": 25,
     "metadata": {},
     "output_type": "execute_result"
    }
   ],
   "source": [
    "'''Convert d_s d_phi to a'''\n",
    "Hz = 100\n",
    "t = 100\n",
    "dt = 1 / Hz\n",
    "#-----sp-------\n",
    "dd_phi = 0.1\n",
    "d_phi = 0\n",
    "phi = 0\n",
    "d_s = 0.1\n",
    "s = 0\n",
    "x = [0]\n",
    "y = [0]\n",
    "#-----av-------\n",
    "a = sp2a(s, d_s, phi, d_phi)\n",
    "v2 = sp2v(s, phi)\n",
    "x2 = [0]\n",
    "y2 = [0]\n",
    "\n",
    "for i in range(t*Hz):\n",
    "    #-----sp-------\n",
    "    v = sp2v(s, phi)\n",
    "    x.append(x[-1] + v[0] * dt)\n",
    "    y.append(y[-1] + v[1] * dt)\n",
    "    phi += d_phi * dt\n",
    "    d_phi += dd_phi * dt\n",
    "    s += d_s * dt\n",
    "    #-----av-------\n",
    "    x2.append(x2[-1] + v2[0] * dt)\n",
    "    y2.append(y2[-1] + v2[1] * dt)\n",
    "    v2[0] += a[0] * dt\n",
    "    v2[1] += a[1] * dt\n",
    "    a = sp2a(s, d_s, phi, d_phi)\n",
    "    \n",
    "plt.figure(1)\n",
    "plt.title('Overlap two trajectories')\n",
    "plt.plot(x, y)\n",
    "plt.plot(x2, y2)\n",
    "plt.figure(2)\n",
    "plt.title('Difference between two trajectories')\n",
    "plt.plot([i - j for i, j in zip(x, x2)])\n",
    "plt.plot([i - j for i, j in zip(y, y2)])\n",
    "plt.legend(['difference on x', 'difference on y'])"
   ]
  },
  {
   "cell_type": "code",
   "execution_count": 3,
   "metadata": {},
   "outputs": [
    {
     "data": {
      "text/plain": [
       "[<matplotlib.lines.Line2D at 0x1b9da73e4e0>]"
      ]
     },
     "execution_count": 3,
     "metadata": {},
     "output_type": "execute_result"
    }
   ],
   "source": [
    "'''Debug angle helper functions'''\n",
    "Hz = 100\n",
    "w = 2\n",
    "ref = [1, 0]\n",
    "p0, p1, v0, v1 = collision_trajectory(45, 'f', spd1=2, w=w, r_min=w, Hz=Hz, animate=False, save=False)\n",
    "\n",
    "\n",
    "\n",
    "d_phi = np.zeros(len(p0))\n",
    "d_betas1 = d_beta_numeric(p0, p1, v0, Hz)\n",
    "d_betas2 = d_beta(p0, p1, v0, v1, d_phi)\n",
    "\n",
    "plt.plot(d_betas1)\n",
    "plt.plot(d_betas2)\n",
    "\n",
    "\n",
    "# Data output to file\n",
    "# data = np.concatenate((p0, p1, v0, v1, a0, np.expand_dims(d_betas1, axis=1), np.expand_dims(d_betas2, axis=1)), axis=1)\n",
    "\n",
    "# df = pd.DataFrame(data=data, columns=['p0x', 'p0y', 'p1x', 'p1y', 'v0x', 'v0y', 'v1x', 'v1y', 'a0x', 'a0y', 'd_beta_numeric', 'd_beta_analytic'])\n",
    "# df.to_csv(\"d_beta.csv\", index=False)\n"
   ]
  },
  {
   "cell_type": "code",
   "execution_count": 3,
   "metadata": {},
   "outputs": [
    {
     "data": {
      "text/plain": [
       "array([[ 0.000000e+00, -1.000000e+00],\n",
       "       [ 1.000000e+00,  6.123234e-17],\n",
       "       [ 1.000000e+00, -1.000000e+00]])"
      ]
     },
     "execution_count": 3,
     "metadata": {},
     "output_type": "execute_result"
    }
   ],
   "source": [
    "'''Debug a,v,s,p helper functions'''\n",
    "a = [[0, 1], [1, 0], [1, 1]]\n",
    "v = [[1, 0], [1, 0], [1, 0]]\n",
    "av2dsdp(a, v)"
   ]
  },
  {
   "cell_type": "code",
   "execution_count": 5,
   "metadata": {},
   "outputs": [
    {
     "data": {
      "text/plain": [
       "[<matplotlib.lines.Line2D at 0x20fe961d630>]"
      ]
     },
     "execution_count": 5,
     "metadata": {},
     "output_type": "execute_result"
    }
   ],
   "source": [
    "'''Modeling ideas'''\n",
    "Hz = 100\n",
    "w = 0.5\n",
    "traj0, traj1, v0, v1 = collision_trajectory(20, 'f', spd1=1.3, w=w, r_min=w, Hz=Hz, animate=True)\n",
    "a0 = np.zeros_like(traj0)\n",
    "thetas = theta(traj0, traj1, w)\n",
    "d_betas = np.absolute(d_beta_numeric(traj0, traj1, v0, Hz=Hz))\n",
    "d_thetas = d_theta(traj0, traj1, v0, v1, 2)\n",
    "RRE = d_thetas / thetas\n",
    "end = np.argmax(np.absolute(d_betas))\n",
    "\n",
    "plt.figure()\n",
    "# Rate of bearing change and rate of expansion\n",
    "plt.plot(d_betas, label='d_betas numerical')\n",
    "plt.plot(RRE, label='RRE')\n",
    "plt.legend()\n",
    "\n",
    "plt.figure()\n",
    "# Critical rate of bearing change as a function of (relative) rate of expansion\n",
    "c = 10\n",
    "ratio = (RRE[:end] + c) / (d_betas[:end] + c) - 1\n",
    "plt.plot(ratio)\n",
    "\n"
   ]
  },
  {
   "cell_type": "code",
   "execution_count": 17,
   "metadata": {},
   "outputs": [],
   "source": [
    "# Plot rate of bearing change as a function of (relative) rate of expansion at different angle of interception\n",
    "Hz = 100\n",
    "for i in range(10, 80, 1):\n",
    "    traj0, traj1, v0, v1 = collision_trajectory(i, 'f', Hz=Hz, animate=False)\n",
    "    d_beta = rate_of_bearing(traj0, traj1, v0, Hz=Hz)\n",
    "    d_theta = rate_of_expansion(traj0, traj1, v0, v1, 2, relative=False)\n",
    "    end = np.argmax(d_beta)\n",
    "#     plt.scatter(np.absolute(d_beta[: end]), d_theta[: end], marker='.', s=1)\n",
    "    plt.scatter(range(0, len(d_beta[: end]/ d_theta[: end])), d_beta[: end]/ d_theta[: end], marker='.', s=1)\n",
    "    "
   ]
  },
  {
   "cell_type": "code",
   "execution_count": 15,
   "metadata": {},
   "outputs": [],
   "source": [
    "# Plot rate of bearing change as a function of (relative) rate of expansion at different speed\n",
    "Hz = 100\n",
    "for i in range(8, 16, 1):\n",
    "    i = i / 10.0\n",
    "    traj0, traj1, v0, v1 = collision_trajectory(45, 'f', spd1=i, Hz=Hz, animate=False)\n",
    "    d_beta = rate_of_bearing(traj0, traj1, v0, Hz=Hz)\n",
    "    d_theta = rate_of_expansion(traj0, traj1, v0, v1, 2, relative=False)\n",
    "    end = np.argmax(d_beta)\n",
    "    plt.scatter(range(0, len(d_beta[: end]/ d_theta[: end])), d_beta[: end]/ d_theta[: end], marker='.', s=1)"
   ]
  },
  {
   "cell_type": "code",
   "execution_count": 18,
   "metadata": {},
   "outputs": [],
   "source": [
    "# Plot rate of bearing change as a function of (relative) rate of expansion with different width\n",
    "Hz = 100\n",
    "for i in range(2, 20, 1):\n",
    "    i = i / 10.0\n",
    "    traj0, traj1, v0, v1 = collision_trajectory(45, 'f', w=i, Hz=Hz, animate=False)\n",
    "    d_beta = rate_of_bearing(traj0, traj1, v0, Hz=Hz)\n",
    "    d_theta = rate_of_expansion(traj0, traj1, v0, v1, 2, relative=False)\n",
    "    end = np.argmax(d_beta)\n",
    "    plt.scatter(range(0, len(d_beta[: end]/ d_theta[: end])), d_beta[: end]/ d_theta[: end], marker='.', s=1)"
   ]
  }
 ],
 "metadata": {
  "kernelspec": {
   "display_name": "Python 3",
   "language": "python",
   "name": "python3"
  },
  "language_info": {
   "codemirror_mode": {
    "name": "ipython",
    "version": 3
   },
   "file_extension": ".py",
   "mimetype": "text/x-python",
   "name": "python",
   "nbconvert_exporter": "python",
   "pygments_lexer": "ipython3",
   "version": "3.6.8"
  }
 },
 "nbformat": 4,
 "nbformat_minor": 2
}
